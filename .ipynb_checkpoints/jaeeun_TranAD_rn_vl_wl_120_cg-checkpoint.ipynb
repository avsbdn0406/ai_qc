{
 "cells": [
  {
   "cell_type": "code",
   "execution_count": 1,
   "id": "d6a3983f-a7ad-4eb9-83c9-1c34cb9b9a11",
   "metadata": {},
   "outputs": [],
   "source": [
    "import os\n",
    "import glob\n",
    "import pandas as pd\n",
    "import numpy as np\n",
    "import torch\n",
    "import torch.nn as nn\n",
    "import torch.optim as optim\n",
    "from torchinfo import summary\n",
    "from torch.utils.data import DataLoader, TensorDataset\n",
    "import warnings\n",
    "warnings.filterwarnings('ignore')\n",
    "import matplotlib.dates as mdates\n",
    "\n",
    "from sklearn.preprocessing import MinMaxScaler\n",
    "import matplotlib.pyplot as plt\n",
    "from tqdm import tqdm"
   ]
  },
  {
   "cell_type": "code",
   "execution_count": 2,
   "id": "95c45caf-46c4-4153-8083-9ccea86cb033",
   "metadata": {},
   "outputs": [],
   "source": [
    "device = torch.device('cuda:0') if torch.cuda.is_available() else torch.device('cpu')"
   ]
  },
  {
   "cell_type": "code",
   "execution_count": 3,
   "id": "57720ead-73fd-410a-83db-b2c3b0203b7a",
   "metadata": {},
   "outputs": [
    {
     "name": "stdout",
     "output_type": "stream",
     "text": [
      "cuda:0\n"
     ]
    }
   ],
   "source": [
    "print(device)"
   ]
  },
  {
   "cell_type": "code",
   "execution_count": 4,
   "id": "fdd6f2bf-d6f3-4836-be76-562ee67f5aab",
   "metadata": {},
   "outputs": [],
   "source": [
    "class SeqEncoder(nn.Module):\n",
    "    def __init__(self, input_size, hidden_size=64, latent_size=16):\n",
    "        super(SeqEncoder, self).__init__()\n",
    "        self.lstm = nn.LSTM(input_size, hidden_size, batch_first=True)\n",
    "        self.fc = nn.Linear(hidden_size, latent_size)\n",
    "\n",
    "    def forward(self, x):  # x: [B, T, F]\n",
    "        _, (h_n, _) = self.lstm(x)  # h_n: [1, B, H]\n",
    "        z = self.fc(h_n.squeeze(0))  # z: [B, latent_size]\n",
    "        return z\n",
    "\n",
    "class SeqDecoder(nn.Module):\n",
    "    def __init__(self, latent_size, hidden_size=64, output_size=3, seq_len=120):\n",
    "        super(SeqDecoder, self).__init__()\n",
    "        self.seq_len = seq_len\n",
    "        self.fc = nn.Linear(latent_size, hidden_size)\n",
    "        self.lstm = nn.LSTM(hidden_size, output_size, batch_first=True)\n",
    "\n",
    "    def forward(self, z):  # z: [B, latent_size]\n",
    "        h0 = self.fc(z).unsqueeze(0)  # [1, B, H]\n",
    "        h_seq = h0.repeat(self.seq_len, 1, 1).permute(1, 0, 2)  # [B, T, H]\n",
    "        out, _ = self.lstm(h_seq)  # [B, T, F]\n",
    "        return out\n",
    "\n",
    "class TranAD(nn.Module):\n",
    "    def __init__(self, input_size=3, hidden_size=64, latent_size=16, seq_len=120):\n",
    "        super(TranAD, self).__init__()\n",
    "        self.encoder = SeqEncoder(input_size, hidden_size, latent_size)\n",
    "        self.decoder = SeqDecoder(latent_size, hidden_size, input_size, seq_len)\n",
    "        self.seq_len = seq_len\n",
    "\n",
    "    def forward(self, x):  # x: [B, T, F]\n",
    "        z = self.encoder(x)             # [B, latent_size]\n",
    "        x_hat = self.decoder(z)         # [B, T, F]\n",
    "        z_hat = self.encoder(x_hat)     # [B, latent_size]\n",
    "        return x_hat, z.unsqueeze(1).repeat(1, self.seq_len, 1), z_hat.unsqueeze(1).repeat(1, self.seq_len, 1)\n"
   ]
  },
  {
   "cell_type": "code",
   "execution_count": 5,
   "id": "e0ac2cc9-dc80-499a-a8b4-508c404f0800",
   "metadata": {},
   "outputs": [],
   "source": [
    "def data_norm(df,mode='train',scaler=''):\n",
    "    \"\"\"\n",
    "    Normalize the data.\n",
    "    df(dataframe) : Input\n",
    "    return tmp(dataframe), scaler : normalized dataframe\n",
    "    \"\"\"\n",
    "    columns = df.columns[1:]\n",
    "\n",
    "    tmp = df.copy()\n",
    "    if mode == 'train':\n",
    "        # Normalize\n",
    "        scaler = MinMaxScaler()\n",
    "        scaled = scaler.fit_transform(tmp[columns])\n",
    "    elif mode=='test':\n",
    "        scaler = scaler\n",
    "        scaled = scaler.transform(tmp[columns])\n",
    "    # Insert the normalized value to the original frame\n",
    "    tmp[columns] = scaled\n",
    "\n",
    "    return tmp, scaler"
   ]
  },
  {
   "cell_type": "code",
   "execution_count": 6,
   "id": "810c81c5-7df9-4632-93e3-8a278fd95dbd",
   "metadata": {},
   "outputs": [],
   "source": [
    "def inverse_norm(tensor, scaler):\n",
    "    \"\"\"\n",
    "    tensor: [N, T, C] → numpy 배열로 변환 후 역정규화 수행\n",
    "    \"\"\"\n",
    "    shape = tensor.shape\n",
    "    data = tensor.reshape(-1, shape[-1])\n",
    "    inv = scaler.inverse_transform(data)\n",
    "    return inv.reshape(shape)"
   ]
  },
  {
   "cell_type": "code",
   "execution_count": 7,
   "id": "1a768ac1-c09f-4aba-8acb-ff87022ded33",
   "metadata": {},
   "outputs": [],
   "source": [
    "def create_sequences(df, seq_len=10):\n",
    "    \"\"\"\n",
    "    날짜 포함된 시퀀스 생성 함수\n",
    "    df: ['date', 'rn', 'vl', 'wl'] 포함된 DataFrame\n",
    "    반환: (data_seq, date_seq)\n",
    "        - data_seq: torch.Tensor [N, seq_len, 3]\n",
    "        - date_seq: List[List[str]] [N, seq_len]\n",
    "    \"\"\"\n",
    "    cols = df.columns[1:]  # 날짜 제외한 나머지 변수\n",
    "    values = df[cols].values.astype(np.float32)\n",
    "    dates = df['dates'].values  # 문자열 형태로 추출\n",
    "\n",
    "    data_sequences = []\n",
    "    date_sequences = []\n",
    "\n",
    "    for i in range(len(df) - seq_len + 1):\n",
    "        data_seq = values[i:i+seq_len]\n",
    "        date_seq = dates[i:i+seq_len]\n",
    "        data_sequences.append(data_seq)\n",
    "        date_sequences.append(date_seq)\n",
    "\n",
    "    return torch.tensor(np.stack(data_sequences)), date_sequences"
   ]
  },
  {
   "cell_type": "code",
   "execution_count": 8,
   "id": "c8cf7d82-4761-4d4f-b96a-48a76f3b6415",
   "metadata": {},
   "outputs": [],
   "source": [
    "def create_combined_sequences(train_dfs, test_dfs, seq_len=120):\n",
    "    \"\"\"\n",
    "    train_dfs(List): Input\n",
    "    test_dfs(List): Input\n",
    "    return train_seq(arr), val_seq(arr): train/val sliding window sequences tensor\n",
    "    \"\"\"\n",
    "    \n",
    "    train_seqs = []\n",
    "    test_seqs = []\n",
    "    train_dates = []\n",
    "    test_dates = []\n",
    "\n",
    "    for train, test in zip(train_dfs, test_dfs):\n",
    "        train_seq, train_date = create_sequences(train, seq_len=seq_len)\n",
    "        test_seq, test_date = create_sequences(test, seq_len=seq_len)\n",
    "        train_seqs.append(train_seq)\n",
    "        train_dates.extend(train_date)\n",
    "        test_seqs.append(test_seq)\n",
    "        test_dates.extend(test_date)\n",
    "    \n",
    "    return torch.cat(train_seqs, dim=0), torch.cat(test_seqs, dim=0), train_dates, test_dates"
   ]
  },
  {
   "cell_type": "code",
   "execution_count": 9,
   "id": "14907a24-b18a-4f21-ac1b-ab5b391dfb51",
   "metadata": {},
   "outputs": [],
   "source": [
    "def create_dataloaders(train_seq, val_seq, batch_size=64, shuffle=True):\n",
    "    \"\"\"\n",
    "    Create the dataloader.\n",
    "    train_seq(tensor)\n",
    "    val_seq(tensor)\n",
    "    return train_loader, val_loader\n",
    "    \"\"\"\n",
    "    # Make TensorDataset 생성 (Same input and output)\n",
    "    train_dataset = TensorDataset(train_seq, train_seq) # X, y\n",
    "    val_dataset = TensorDataset(val_seq, train_seq) # X, y\n",
    "\n",
    "    # Make DataLoader (Load X,y)\n",
    "    train_loader = DataLoader(train_dataset, batch_size=batch_size, shuffle=shuffle) \n",
    "    val_loader = DataLoader(val_dataset, batch_size=batch_size, shuffle=False)\n",
    "\n",
    "    return train_loader, val_loader"
   ]
  },
  {
   "cell_type": "code",
   "execution_count": 10,
   "id": "72fe3996-8a85-4834-a4a8-c4ce17039cc3",
   "metadata": {},
   "outputs": [],
   "source": [
    "def train_tranad(model, train_loader, num_epochs=50, alpha=0.5, lr=1e-3, device='cuda',sav_path=None):\n",
    "    model = model.to(device)\n",
    "    optimizer = torch.optim.Adam(model.parameters(), lr=lr)\n",
    "    criterion = nn.MSELoss()\n",
    "\n",
    "    best_loss = float('inf')  # 가장 작은 loss 추적용\n",
    "    save_path = sav_path  # 저장할 폴더\n",
    "    os.makedirs(save_path, exist_ok=True)\n",
    "    losses = []\n",
    "    for epoch in range(1, num_epochs + 1):\n",
    "        model.train()\n",
    "        total_loss = 0\n",
    "\n",
    "        for x, _ in tqdm(train_loader, desc=f\"Epoch {epoch}/{num_epochs}\"):\n",
    "            x = x.to(device)\n",
    "\n",
    "            optimizer.zero_grad()\n",
    "            x_hat, z, z_hat = model(x)\n",
    "\n",
    "            loss1 = criterion(x_hat, x)\n",
    "            loss2 = criterion(z_hat, z)\n",
    "            loss = alpha * loss1 + (1 - alpha) * loss2\n",
    "\n",
    "            loss.backward()\n",
    "            optimizer.step()\n",
    "            total_loss += loss.item()\n",
    "        \n",
    "        print(f\"Epoch {epoch+1}/{num_epochs} - Loss: {total_loss:.4f}\")\n",
    "        losses.append(total_loss)\n",
    "        # save weights file\n",
    "        if total_loss < best_loss:\n",
    "            best_loss = total_loss\n",
    "            torch.save(model.state_dict(), os.path.join(save_path, 'TranAD_best.pth'))\n",
    "            print(f\"[Epoch {epoch}] 모델 저장됨: val_loss = {total_loss:.6f}\")\n",
    "\n",
    "    plt.figure(figsize=(8, 5))\n",
    "    plt.plot(losses, label='Loss')\n",
    "    plt.xlabel('Epoch')\n",
    "    plt.ylabel('Loss')\n",
    "    plt.title('Training Loss per Epoch')\n",
    "    plt.legend()\n",
    "    plt.grid(True)\n",
    "    plt.tight_layout()\n",
    "    plt.savefig(os.path.join(sav_path, f'TranAD_{seq_len}_train_loss_plot.png'))\n",
    "    plt.close()\n",
    "    print(f\"[Saved] Training loss plot saved at {os.path.join(sav_path, f'TranAD_{seq_len}_train_loss_plot.png')}\")"
   ]
  },
  {
   "cell_type": "code",
   "execution_count": 11,
   "id": "58e5fb15-ba0b-4fe7-8668-99c9968fde07",
   "metadata": {},
   "outputs": [],
   "source": [
    "def test_tranad(model, test_loader, device='cuda'):\n",
    "    model.eval()\n",
    "    model.to(device)\n",
    "\n",
    "    recon_errors = []\n",
    "    all_x = []\n",
    "    all_xhat = []\n",
    "\n",
    "    criterion = nn.MSELoss(reduction='none')  # feature별 loss 확인 위해\n",
    "\n",
    "    with torch.no_grad():\n",
    "        for x, _ in test_loader:\n",
    "            x = x.to(device)\n",
    "\n",
    "            x_hat, _, _ = model(x)  # z, z_hat은 여기선 사용하지 않음\n",
    "\n",
    "            # reconstruction error 계산\n",
    "            loss = (x_hat - x) ** 2  # [B, T, F]\n",
    "            loss = loss.mean(dim=2)  # feature 평균 → [B, T]\n",
    "            recon_errors.append(loss.cpu().numpy())\n",
    "\n",
    "            # 시계열 저장\n",
    "            all_x.append(x.cpu())\n",
    "            all_xhat.append(x_hat.cpu())\n",
    "\n",
    "    # concat\n",
    "    all_x = torch.cat(all_x, dim=0)         # [N, T, F]\n",
    "    all_xhat = torch.cat(all_xhat, dim=0)   # [N, T, F]\n",
    "    recon_errors = np.concatenate(recon_errors, axis=0)  # [N, T]\n",
    "\n",
    "    return all_x, all_xhat, recon_errors\n"
   ]
  },
  {
   "cell_type": "code",
   "execution_count": 12,
   "id": "01dd3eed-9b81-4988-90a2-12735c207b26",
   "metadata": {},
   "outputs": [],
   "source": [
    "def compute_anomaly_scores(x_seq, w2_seq, mode='vl'):\n",
    "    \"\"\"\n",
    "    x_seq, w2_seq: [N, T, 3]\n",
    "    mode: 'vl' → 관로수위만 사용 / 'all' → 전체 변수 평균\n",
    "    반환: [N] shape의 이상치 점수 벡터\n",
    "    \"\"\"\n",
    "    # 관로수위 (index 2)만 비교\n",
    "    errors = (x_seq - w2_seq) ** 2  # [N, T]\n",
    "    scores = errors.mean(dim=1)  # 시퀀스별 평균 MSE → [N]\n",
    "    return errors.numpy(), scores.numpy()"
   ]
  },
  {
   "cell_type": "code",
   "execution_count": 13,
   "id": "ebc1bf05-ee13-41e6-b75f-b026fb9263f0",
   "metadata": {},
   "outputs": [],
   "source": [
    "def determine_threshold(scores, method='iqr', k=3):\n",
    "    \"\"\"\n",
    "    scores: 이상치 점수 벡터 (numpy)\n",
    "    method: 'iqr', 'mean_std', 'percentile'\n",
    "    \"\"\"\n",
    "    if method == 'iqr':\n",
    "        q1 = np.percentile(scores, 25)\n",
    "        q3 = np.percentile(scores, 75)\n",
    "        iqr = q3 - q1\n",
    "        threshold = q3 + 1.5 * iqr\n",
    "\n",
    "    elif method == 'mean_std':\n",
    "        mean = np.mean(scores)\n",
    "        std = np.std(scores)\n",
    "        threshold = mean + k * std\n",
    "\n",
    "    elif method == 'percentile':\n",
    "        threshold = np.percentile(scores, 95)\n",
    "\n",
    "    else:\n",
    "        raise ValueError(\"지원하지 않는 방식입니다.\")\n",
    "\n",
    "    return threshold"
   ]
  },
  {
   "cell_type": "code",
   "execution_count": 14,
   "id": "cf05f9f5-cc0f-4937-ac59-596c0e9b92ef",
   "metadata": {},
   "outputs": [],
   "source": [
    "def plot_corrected_vs_original(original_seq, corrected_seq, input_seq, sav_path = '', sample_idx=0):\n",
    "    \"\"\"\n",
    "    단일 시퀀스 비교 시각화 (60분간)\n",
    "    \"\"\"\n",
    "    orig = original_seq[sample_idx]#.numpy()  # 관로 수위\n",
    "    corr = corrected_seq[sample_idx]#.numpy()\n",
    "    inputs = input_seq[sample_idx]\n",
    "    if not os.path.isdir(sav_path):\n",
    "        os.makedirs(sav_path)\n",
    "    plt.figure(figsize=(12, 4))\n",
    "    plt.plot(orig, label='Original (vl)', marker='o')\n",
    "    plt.plot(corr, label='Corrected (w2)', marker='x')\n",
    "    plt.plot(inputs, label='Input', marker='+')\n",
    "    plt.title(f'Sample {sample_idx}: Sewer Level Original  vs Corrected')\n",
    "    plt.xlabel('Time index (minute)')\n",
    "    plt.ylabel('Sewer Level')\n",
    "    plt.legend()\n",
    "    plt.grid(True)\n",
    "    plt.tight_layout()\n",
    "    plt.show()\n",
    "    plt.savefig(f'{sav_path}/{sample_idx}.png')"
   ]
  },
  {
   "cell_type": "code",
   "execution_count": 15,
   "id": "e6523c24-aac7-4956-9545-829d997c735c",
   "metadata": {},
   "outputs": [],
   "source": [
    "def plot_anomalies_on_timeseries(original_seq, anomaly_flags, sav_path='', sample_idx=0):\n",
    "    \"\"\"\n",
    "    Plot(scatter) the anomlay detection results on the graph\n",
    "    original_seq : [N, T] or [N, T, 3]\n",
    "    anomaly_flags : [N, T] (bool array)\n",
    "    sample_idx(int)\n",
    "    \"\"\"\n",
    "    vl = original_seq[sample_idx]  # shape: [T]\n",
    "    flags = anomaly_flags[sample_idx]  # shape: [T], bool\n",
    "\n",
    "    if not os.path.isdir(sav_path):\n",
    "        os.makedirs(sav_path)\n",
    "\n",
    "    plt.figure(figsize=(12, 4))\n",
    "    plt.plot(vl, label='Sewer Level (vl)', color='blue')\n",
    "\n",
    "    # Scatter the anomaly\n",
    "    if flags.any():\n",
    "        plt.scatter(np.where(flags)[0], vl[flags], color='red', label='Detected Anomaly', zorder=3)\n",
    "\n",
    "    plt.title(f'Sample {sample_idx} - Detected {flags.sum()} Anomalies')\n",
    "    plt.xlabel('Time index (minute)')\n",
    "    plt.ylabel('Sewer Level')\n",
    "    plt.legend()\n",
    "    plt.grid(True)\n",
    "    plt.tight_layout()\n",
    "    \n",
    "    plt.savefig(f'{sav_path}/{sample_idx}_anomaly.png')\n",
    "    plt.show()"
   ]
  },
  {
   "cell_type": "code",
   "execution_count": 16,
   "id": "b26f1d9e-fb8f-416b-9744-c024dc85223a",
   "metadata": {},
   "outputs": [],
   "source": [
    "def summarize_pointwise_anomaly_statistics(errors, anomaly_flags):\n",
    "    \"\"\"\n",
    "    시점 단위 이상치 탐지 통계 요약\n",
    "    errors: np.ndarray, shape [N] or [T] - pointwise 오차 벡터 (예: MAE or MSE)\n",
    "    anomaly_flags: np.ndarray, shape [N] or [T] - 이상치 여부 (bool 배열)\n",
    "\n",
    "    출력:\n",
    "        - 총 시점 수\n",
    "        - 이상치 시점 수 및 비율\n",
    "        - 이상치 평균 오차\n",
    "        - 정상값 평균 오차\n",
    "    \"\"\"\n",
    "    total = len(errors)\n",
    "    num_anomalies = np.sum(anomaly_flags)\n",
    "    num_normals = total - num_anomalies\n",
    "\n",
    "    mean_anomaly_error = np.mean(errors[anomaly_flags]) if num_anomalies > 0 else 0.0\n",
    "    mean_normal_error = np.mean(errors[~anomaly_flags]) if num_normals > 0 else 0.0\n",
    "\n",
    "    print(\"📊 시점 단위 이상치 탐지 통계 요약\")\n",
    "    print(f\"- 총 시점 수: {total}\")\n",
    "    print(f\"- 이상치 시점 수: {num_anomalies}\")\n",
    "    print(f\"- 이상치 비율: {100.0 * num_anomalies / total:.2f}%\")\n",
    "    print(f\"- 이상치 평균 오차: {mean_anomaly_error:.4f}\")\n",
    "    print(f\"- 정상값 평균 오차: {mean_normal_error:.4f}\")\n"
   ]
  },
  {
   "cell_type": "code",
   "execution_count": 17,
   "id": "4b67c5c9-edaf-40ed-b7df-e6bf3835ab67",
   "metadata": {},
   "outputs": [],
   "source": [
    "def reconstruct_series_from_sequences(seq_array):\n",
    "    \"\"\"\n",
    "    Merge the predicted sequences for all time step data\n",
    "    seq_array: [N, T] numpy or tensor\n",
    "    반환: [N+T-1] 배열 (시점 단위 결과)\n",
    "    \"\"\"\n",
    "    # seq_array = seq_array.numpy()\n",
    "    N, T = seq_array.shape\n",
    "    summed = np.zeros(N + T - 1)\n",
    "    count = np.zeros(N + T - 1)\n",
    "\n",
    "    for i in range(N):\n",
    "        summed[i:i+T] += seq_array[i]\n",
    "        count[i:i+T] += 1\n",
    "\n",
    "    return summed / count"
   ]
  },
  {
   "cell_type": "markdown",
   "id": "6a936813-8a0a-4407-acd1-7b7059763365",
   "metadata": {},
   "source": [
    "## Load dataset (Several dataframes)"
   ]
  },
  {
   "cell_type": "code",
   "execution_count": 18,
   "id": "760611e5-da5f-4f86-8bc3-4d4131958f50",
   "metadata": {},
   "outputs": [],
   "source": [
    "region = {0 : 'gwangjoo', 1 : 'changwon', 2 : 'pohang'}\n",
    "fname = {0 : '2920010001045020', 1 : '4812110001018020', 2 : ''}\n",
    "r_cd = 0\n",
    "\n",
    "batch_size = 256\n",
    "seq_len = 120\n",
    "input_dim=3\n",
    "hidden_dim=24\n",
    "latent_dim=16\n",
    "\n",
    "epochs = 100\n",
    "\n",
    "data_dir = './trainset/sewer/'\n",
    "# 파일 경로 정렬\n",
    "train_paths = sorted(glob.glob(os.path.join(data_dir, 'train*.csv')))\n",
    "test_paths = sorted(glob.glob(os.path.join(data_dir, 'org*.csv')))\n",
    "\n",
    "# 'flag' 열 제외하고 불러오기\n",
    "usecols = ['dates', 'rn', 'vl', 'wl']  # 필요한 컬럼만 명시\n",
    "\n",
    "train_dfs = [pd.read_csv(path, encoding='cp949', usecols=usecols) for path in train_paths]\n",
    "test_dfs = [pd.read_csv(path, encoding='cp949', usecols=usecols) for path in test_paths]\n"
   ]
  },
  {
   "cell_type": "markdown",
   "id": "95fafa36-4f41-428a-95a6-bdd812b9536a",
   "metadata": {},
   "source": [
    "## Check NaNs"
   ]
  },
  {
   "cell_type": "code",
   "execution_count": 19,
   "id": "353b7c41-556f-4fa4-ac9c-91345d33faa6",
   "metadata": {},
   "outputs": [
    {
     "name": "stdout",
     "output_type": "stream",
     "text": [
      "Train set NaN 개수 (컬럼별):\n",
      " dates    0\n",
      "rn       0\n",
      "vl       0\n",
      "wl       0\n",
      "dtype: int64\n",
      "Test set NaN 개수 (컬럼별):\n",
      " dates       0\n",
      "rn          0\n",
      "vl       3826\n",
      "wl          0\n",
      "dtype: int64\n",
      "\n",
      "Train set 전체 NaN 수: 0\n",
      "Test set 전체 NaN 수: 3826\n"
     ]
    }
   ],
   "source": [
    "# 각 컬럼별 NaN 개수 누적용 (Series 초기화)\n",
    "train_null = pd.Series(0, index=train_dfs[0].columns)\n",
    "test_null = pd.Series(0, index=test_dfs[0].columns)\n",
    "\n",
    "for train, test in zip(train_dfs, test_dfs):\n",
    "    train_null += train.isnull().sum()\n",
    "    test_null += test.isnull().sum()\n",
    "\n",
    "print('Train set NaN 개수 (컬럼별):\\n', train_null)\n",
    "print('Test set NaN 개수 (컬럼별):\\n', test_null)\n",
    "\n",
    "# 전체 NaN 총합 출력\n",
    "print(f\"\\nTrain set 전체 NaN 수: {train_null.sum()}\")\n",
    "print(f\"Test set 전체 NaN 수: {test_null.sum()}\")"
   ]
  },
  {
   "cell_type": "markdown",
   "id": "a58ce317-b821-4057-946f-a8623b4b68fe",
   "metadata": {},
   "source": [
    "## Data normalization (rain value, sewer level(vl), river level)"
   ]
  },
  {
   "cell_type": "code",
   "execution_count": 20,
   "id": "73fdffd2-f293-4701-8cfd-ade76164e035",
   "metadata": {},
   "outputs": [],
   "source": [
    "train_norm_dfs = []\n",
    "test_norm_dfs = []\n",
    "_, train_scaler = data_norm(pd.concat(train_dfs))\n",
    "\n",
    "for train, test in zip(train_dfs, test_dfs):\n",
    "    test.fillna(0.0, inplace=True)\n",
    "    \n",
    "    train_norm, _ = data_norm(train, scaler = train_scaler)\n",
    "    test_norm, _ = data_norm(test, mode='test',scaler=train_scaler)\n",
    "    \n",
    "    test_norm['vl'] = test_norm['vl'].clip(lower= 0.0)\n",
    "    \n",
    "    train_norm_dfs.append(train_norm)\n",
    "    test_norm_dfs.append(test_norm)"
   ]
  },
  {
   "cell_type": "code",
   "execution_count": 21,
   "id": "76977f1d-9cc4-40c0-9436-4f78070a936f",
   "metadata": {},
   "outputs": [
    {
     "name": "stdout",
     "output_type": "stream",
     "text": [
      "▶ Train set\n",
      "Rain (rn) - Original min/max: 0.0 357.5\n",
      "Rain (rn) - Normalized min/max: 0.0 1.0\n",
      "Sewer level (vl) - Original min/max: 14.0 133.0\n",
      "Sewer level (vl) - Normalized min/max: 0.0 1.0\n",
      "River level (wl) - Original min/max: 0.93 5.93\n",
      "River level (wl) - Normalized min/max: 0.0 1.0\n",
      "\n",
      "▶ Test set\n",
      "Test set Nan count:\n",
      " dates    0\n",
      "rn       0\n",
      "vl       0\n",
      "wl       0\n",
      "dtype: int64\n",
      "Rain (rn) - Original min/max: 0.0 357.5\n",
      "Rain (rn) - Normalized min/max: 0.0 1.0\n",
      "Sewer level (vl) - Original min/max: 0.0 133.0\n",
      "Sewer level (vl) - Normalized min/max: 0.0 1.0\n",
      "River level (wl) - Original min/max: 0.93 5.93\n",
      "River level (wl) - Normalized min/max: 0.0 0.9999999999999999\n"
     ]
    }
   ],
   "source": [
    "print('▶ Train set')\n",
    "tmp_orig = pd.concat(train_dfs)\n",
    "tmp_norm = pd.concat(train_norm_dfs)\n",
    "\n",
    "print('Rain (rn) - Original min/max:', tmp_orig['rn'].min(), tmp_orig['rn'].max())\n",
    "print('Rain (rn) - Normalized min/max:', tmp_norm['rn'].min(), tmp_norm['rn'].max())\n",
    "\n",
    "print('Sewer level (vl) - Original min/max:', tmp_orig['vl'].min(), tmp_orig['vl'].max())\n",
    "print('Sewer level (vl) - Normalized min/max:', tmp_norm['vl'].min(), tmp_norm['vl'].max())\n",
    "\n",
    "print('River level (wl) - Original min/max:', tmp_orig['wl'].min(), tmp_orig['wl'].max())\n",
    "print('River level (wl) - Normalized min/max:', tmp_norm['wl'].min(), tmp_norm['wl'].max())\n",
    "\n",
    "print('\\n▶ Test set')\n",
    "tmp_test_orig = pd.concat(test_dfs)\n",
    "tmp_test_norm = pd.concat(test_norm_dfs)\n",
    "\n",
    "print('Test set Nan count:\\n', tmp_test_orig.isnull().sum())\n",
    "\n",
    "print('Rain (rn) - Original min/max:', tmp_test_orig['rn'].min(), tmp_test_orig['rn'].max())\n",
    "print('Rain (rn) - Normalized min/max:', tmp_test_norm['rn'].min(), tmp_test_norm['rn'].max())\n",
    "\n",
    "print('Sewer level (vl) - Original min/max:', tmp_test_orig['vl'].min(), tmp_test_orig['vl'].max())\n",
    "print('Sewer level (vl) - Normalized min/max:', tmp_test_norm['vl'].min(), tmp_test_norm['vl'].max())\n",
    "\n",
    "print('River level (wl) - Original min/max:', tmp_test_orig['wl'].min(), tmp_test_orig['wl'].max())\n",
    "print('River level (wl) - Normalized min/max:', tmp_test_norm['wl'].min(), tmp_test_norm['wl'].max())\n"
   ]
  },
  {
   "cell_type": "markdown",
   "id": "071e8e91-42f8-463b-adab-c57e540f031d",
   "metadata": {},
   "source": [
    "## Make dataset for the sequence data"
   ]
  },
  {
   "cell_type": "code",
   "execution_count": 22,
   "id": "d13272cf-2a49-42bd-aec0-d8e976ada5b7",
   "metadata": {},
   "outputs": [
    {
     "name": "stdout",
     "output_type": "stream",
     "text": [
      "Train shape: torch.Size([791760, 120, 3])\n",
      "Val shape: torch.Size([791760, 120, 3])\n"
     ]
    }
   ],
   "source": [
    "train_seq, val_seq, train_date, test_date = create_combined_sequences(train_norm_dfs, test_norm_dfs, seq_len=seq_len)\n",
    "\n",
    "print(\"Train shape:\", train_seq.shape)  # (N_train, 60, 3)\n",
    "print(\"Val shape:\", val_seq.shape)      # (N_val, 60, 3)"
   ]
  },
  {
   "cell_type": "code",
   "execution_count": 23,
   "id": "84f643a0-e260-4802-bde2-75c355b44c0a",
   "metadata": {},
   "outputs": [],
   "source": [
    "train_date = np.stack(train_date)\n",
    "test_date = np.stack(test_date)"
   ]
  },
  {
   "cell_type": "markdown",
   "id": "ed02117f-6d62-4b16-a046-71215ed8a028",
   "metadata": {},
   "source": [
    "## Initialize the model"
   ]
  },
  {
   "cell_type": "code",
   "execution_count": 24,
   "id": "b617089c-0cc4-4388-9ab2-4fd2dc715194",
   "metadata": {},
   "outputs": [
    {
     "name": "stdout",
     "output_type": "stream",
     "text": [
      "torch.Size([256, 120, 3])\n",
      "torch.Size([256, 120, 16])\n"
     ]
    }
   ],
   "source": [
    "model = TranAD(input_size=input_dim, hidden_size=hidden_dim, latent_size=latent_dim, seq_len=seq_len)\n",
    "example = torch.randn((batch_size,seq_len, input_dim)) \n",
    "w1, w2, z = model(example)\n",
    "\n",
    "print(w1.shape)  # torch.Size([32, 10, 3])\n",
    "print(w2.shape)  # torch.Size([32, 10, 3])"
   ]
  },
  {
   "cell_type": "code",
   "execution_count": 25,
   "id": "5d5ecfa7-d608-4c0d-9ea1-13d0d18a0346",
   "metadata": {},
   "outputs": [
    {
     "data": {
      "text/plain": [
       "==========================================================================================\n",
       "Layer (type:depth-idx)                   Output Shape              Param #\n",
       "==========================================================================================\n",
       "TranAD                                   [256, 120, 3]             --\n",
       "├─SeqEncoder: 1-1                        [256, 16]                 --\n",
       "│    └─LSTM: 2-1                         [256, 120, 24]            2,784\n",
       "│    └─Linear: 2-2                       [256, 16]                 400\n",
       "├─SeqDecoder: 1-2                        [256, 120, 3]             --\n",
       "│    └─Linear: 2-3                       [256, 24]                 408\n",
       "│    └─LSTM: 2-4                         [256, 120, 3]             348\n",
       "├─SeqEncoder: 1-3                        [256, 16]                 (recursive)\n",
       "│    └─LSTM: 2-5                         [256, 120, 24]            (recursive)\n",
       "│    └─Linear: 2-6                       [256, 16]                 (recursive)\n",
       "==========================================================================================\n",
       "Total params: 3,940\n",
       "Trainable params: 3,940\n",
       "Non-trainable params: 0\n",
       "Total mult-adds (Units.MEGABYTES): 182.05\n",
       "==========================================================================================\n",
       "Input size (MB): 0.37\n",
       "Forward/backward pass size (MB): 12.65\n",
       "Params size (MB): 0.02\n",
       "Estimated Total Size (MB): 13.03\n",
       "=========================================================================================="
      ]
     },
     "execution_count": 25,
     "metadata": {},
     "output_type": "execute_result"
    }
   ],
   "source": [
    "summary(model, input_size=(example.shape)) "
   ]
  },
  {
   "cell_type": "markdown",
   "id": "576d2d21-2646-40ae-b264-cb725bcbe6f7",
   "metadata": {},
   "source": [
    "## Create dataloader"
   ]
  },
  {
   "cell_type": "code",
   "execution_count": 32,
   "id": "c55ee97a-efb1-44ec-b6c6-7ddc2f9325e4",
   "metadata": {},
   "outputs": [
    {
     "name": "stdout",
     "output_type": "stream",
     "text": [
      "torch.Size([256, 120, 3])\n",
      "torch.Size([256, 120, 3])\n"
     ]
    }
   ],
   "source": [
    "# Create the data loader to load the dataset\n",
    "train_loader, val_loader = create_dataloaders(train_seq, val_seq, batch_size=batch_size)\n",
    "\n",
    "# Check the dataset shape\n",
    "for x, y in train_loader:\n",
    "    print(x.shape)  \n",
    "    print(y.shape)  \n",
    "    break\n"
   ]
  },
  {
   "cell_type": "markdown",
   "id": "9953fe60-d801-48df-815b-d506472d84f9",
   "metadata": {},
   "source": [
    "## Training"
   ]
  },
  {
   "cell_type": "code",
   "execution_count": 28,
   "id": "12615f56-be0c-4a02-832a-49122f13838e",
   "metadata": {
    "scrolled": true
   },
   "outputs": [
    {
     "name": "stderr",
     "output_type": "stream",
     "text": [
      "Epoch 1/100: 100%|██████████████████████████████████████████████| 3093/3093 [00:08<00:00, 385.00it/s]\n"
     ]
    },
    {
     "name": "stdout",
     "output_type": "stream",
     "text": [
      "Epoch 2/100 - Loss: 1.0942\n",
      "[Epoch 1] 모델 저장됨: val_loss = 1.094161\n"
     ]
    },
    {
     "name": "stderr",
     "output_type": "stream",
     "text": [
      "Epoch 2/100: 100%|██████████████████████████████████████████████| 3093/3093 [00:07<00:00, 399.11it/s]\n"
     ]
    },
    {
     "name": "stdout",
     "output_type": "stream",
     "text": [
      "Epoch 3/100 - Loss: 0.3772\n",
      "[Epoch 2] 모델 저장됨: val_loss = 0.377213\n"
     ]
    },
    {
     "name": "stderr",
     "output_type": "stream",
     "text": [
      "Epoch 3/100: 100%|██████████████████████████████████████████████| 3093/3093 [00:07<00:00, 388.75it/s]\n"
     ]
    },
    {
     "name": "stdout",
     "output_type": "stream",
     "text": [
      "Epoch 4/100 - Loss: 0.3205\n",
      "[Epoch 3] 모델 저장됨: val_loss = 0.320523\n"
     ]
    },
    {
     "name": "stderr",
     "output_type": "stream",
     "text": [
      "Epoch 4/100: 100%|██████████████████████████████████████████████| 3093/3093 [00:07<00:00, 393.63it/s]\n"
     ]
    },
    {
     "name": "stdout",
     "output_type": "stream",
     "text": [
      "Epoch 5/100 - Loss: 0.2946\n",
      "[Epoch 4] 모델 저장됨: val_loss = 0.294627\n"
     ]
    },
    {
     "name": "stderr",
     "output_type": "stream",
     "text": [
      "Epoch 5/100: 100%|██████████████████████████████████████████████| 3093/3093 [00:07<00:00, 394.67it/s]\n"
     ]
    },
    {
     "name": "stdout",
     "output_type": "stream",
     "text": [
      "Epoch 6/100 - Loss: 0.2818\n",
      "[Epoch 5] 모델 저장됨: val_loss = 0.281795\n"
     ]
    },
    {
     "name": "stderr",
     "output_type": "stream",
     "text": [
      "Epoch 6/100: 100%|██████████████████████████████████████████████| 3093/3093 [00:08<00:00, 373.38it/s]\n"
     ]
    },
    {
     "name": "stdout",
     "output_type": "stream",
     "text": [
      "Epoch 7/100 - Loss: 0.2723\n",
      "[Epoch 6] 모델 저장됨: val_loss = 0.272336\n"
     ]
    },
    {
     "name": "stderr",
     "output_type": "stream",
     "text": [
      "Epoch 7/100: 100%|██████████████████████████████████████████████| 3093/3093 [00:08<00:00, 374.35it/s]\n"
     ]
    },
    {
     "name": "stdout",
     "output_type": "stream",
     "text": [
      "Epoch 8/100 - Loss: 0.2644\n",
      "[Epoch 7] 모델 저장됨: val_loss = 0.264395\n"
     ]
    },
    {
     "name": "stderr",
     "output_type": "stream",
     "text": [
      "Epoch 8/100: 100%|██████████████████████████████████████████████| 3093/3093 [00:07<00:00, 396.95it/s]\n"
     ]
    },
    {
     "name": "stdout",
     "output_type": "stream",
     "text": [
      "Epoch 9/100 - Loss: 0.2608\n",
      "[Epoch 8] 모델 저장됨: val_loss = 0.260752\n"
     ]
    },
    {
     "name": "stderr",
     "output_type": "stream",
     "text": [
      "Epoch 9/100: 100%|██████████████████████████████████████████████| 3093/3093 [00:07<00:00, 400.84it/s]\n"
     ]
    },
    {
     "name": "stdout",
     "output_type": "stream",
     "text": [
      "Epoch 10/100 - Loss: 0.2592\n",
      "[Epoch 9] 모델 저장됨: val_loss = 0.259197\n"
     ]
    },
    {
     "name": "stderr",
     "output_type": "stream",
     "text": [
      "Epoch 10/100: 100%|█████████████████████████████████████████████| 3093/3093 [00:07<00:00, 412.76it/s]\n"
     ]
    },
    {
     "name": "stdout",
     "output_type": "stream",
     "text": [
      "Epoch 11/100 - Loss: 0.2561\n",
      "[Epoch 10] 모델 저장됨: val_loss = 0.256145\n"
     ]
    },
    {
     "name": "stderr",
     "output_type": "stream",
     "text": [
      "Epoch 11/100: 100%|█████████████████████████████████████████████| 3093/3093 [00:07<00:00, 405.41it/s]\n"
     ]
    },
    {
     "name": "stdout",
     "output_type": "stream",
     "text": [
      "Epoch 12/100 - Loss: 0.2546\n",
      "[Epoch 11] 모델 저장됨: val_loss = 0.254649\n"
     ]
    },
    {
     "name": "stderr",
     "output_type": "stream",
     "text": [
      "Epoch 12/100: 100%|█████████████████████████████████████████████| 3093/3093 [00:07<00:00, 405.33it/s]\n"
     ]
    },
    {
     "name": "stdout",
     "output_type": "stream",
     "text": [
      "Epoch 13/100 - Loss: 0.2531\n",
      "[Epoch 12] 모델 저장됨: val_loss = 0.253139\n"
     ]
    },
    {
     "name": "stderr",
     "output_type": "stream",
     "text": [
      "Epoch 13/100: 100%|█████████████████████████████████████████████| 3093/3093 [00:07<00:00, 395.65it/s]\n"
     ]
    },
    {
     "name": "stdout",
     "output_type": "stream",
     "text": [
      "Epoch 14/100 - Loss: 0.2533\n"
     ]
    },
    {
     "name": "stderr",
     "output_type": "stream",
     "text": [
      "Epoch 14/100: 100%|█████████████████████████████████████████████| 3093/3093 [00:07<00:00, 408.53it/s]\n"
     ]
    },
    {
     "name": "stdout",
     "output_type": "stream",
     "text": [
      "Epoch 15/100 - Loss: 0.2509\n",
      "[Epoch 14] 모델 저장됨: val_loss = 0.250932\n"
     ]
    },
    {
     "name": "stderr",
     "output_type": "stream",
     "text": [
      "Epoch 15/100: 100%|█████████████████████████████████████████████| 3093/3093 [00:07<00:00, 397.00it/s]\n"
     ]
    },
    {
     "name": "stdout",
     "output_type": "stream",
     "text": [
      "Epoch 16/100 - Loss: 0.2505\n",
      "[Epoch 15] 모델 저장됨: val_loss = 0.250540\n"
     ]
    },
    {
     "name": "stderr",
     "output_type": "stream",
     "text": [
      "Epoch 16/100: 100%|█████████████████████████████████████████████| 3093/3093 [00:07<00:00, 407.53it/s]\n"
     ]
    },
    {
     "name": "stdout",
     "output_type": "stream",
     "text": [
      "Epoch 17/100 - Loss: 0.2500\n",
      "[Epoch 16] 모델 저장됨: val_loss = 0.249956\n"
     ]
    },
    {
     "name": "stderr",
     "output_type": "stream",
     "text": [
      "Epoch 17/100: 100%|█████████████████████████████████████████████| 3093/3093 [00:07<00:00, 413.09it/s]\n"
     ]
    },
    {
     "name": "stdout",
     "output_type": "stream",
     "text": [
      "Epoch 18/100 - Loss: 0.2497\n",
      "[Epoch 17] 모델 저장됨: val_loss = 0.249669\n"
     ]
    },
    {
     "name": "stderr",
     "output_type": "stream",
     "text": [
      "Epoch 18/100: 100%|█████████████████████████████████████████████| 3093/3093 [00:07<00:00, 408.69it/s]\n"
     ]
    },
    {
     "name": "stdout",
     "output_type": "stream",
     "text": [
      "Epoch 19/100 - Loss: 0.2484\n",
      "[Epoch 18] 모델 저장됨: val_loss = 0.248391\n"
     ]
    },
    {
     "name": "stderr",
     "output_type": "stream",
     "text": [
      "Epoch 19/100: 100%|█████████████████████████████████████████████| 3093/3093 [00:08<00:00, 382.38it/s]\n"
     ]
    },
    {
     "name": "stdout",
     "output_type": "stream",
     "text": [
      "Epoch 20/100 - Loss: 0.2485\n"
     ]
    },
    {
     "name": "stderr",
     "output_type": "stream",
     "text": [
      "Epoch 20/100: 100%|█████████████████████████████████████████████| 3093/3093 [00:08<00:00, 370.45it/s]\n"
     ]
    },
    {
     "name": "stdout",
     "output_type": "stream",
     "text": [
      "Epoch 21/100 - Loss: 0.2479\n",
      "[Epoch 20] 모델 저장됨: val_loss = 0.247876\n"
     ]
    },
    {
     "name": "stderr",
     "output_type": "stream",
     "text": [
      "Epoch 21/100: 100%|█████████████████████████████████████████████| 3093/3093 [00:08<00:00, 371.93it/s]\n"
     ]
    },
    {
     "name": "stdout",
     "output_type": "stream",
     "text": [
      "Epoch 22/100 - Loss: 0.2466\n",
      "[Epoch 21] 모델 저장됨: val_loss = 0.246646\n"
     ]
    },
    {
     "name": "stderr",
     "output_type": "stream",
     "text": [
      "Epoch 22/100: 100%|█████████████████████████████████████████████| 3093/3093 [00:08<00:00, 382.69it/s]\n"
     ]
    },
    {
     "name": "stdout",
     "output_type": "stream",
     "text": [
      "Epoch 23/100 - Loss: 0.2470\n"
     ]
    },
    {
     "name": "stderr",
     "output_type": "stream",
     "text": [
      "Epoch 23/100: 100%|█████████████████████████████████████████████| 3093/3093 [00:07<00:00, 399.41it/s]\n"
     ]
    },
    {
     "name": "stdout",
     "output_type": "stream",
     "text": [
      "Epoch 24/100 - Loss: 0.2466\n",
      "[Epoch 23] 모델 저장됨: val_loss = 0.246637\n"
     ]
    },
    {
     "name": "stderr",
     "output_type": "stream",
     "text": [
      "Epoch 24/100: 100%|█████████████████████████████████████████████| 3093/3093 [00:07<00:00, 411.03it/s]\n"
     ]
    },
    {
     "name": "stdout",
     "output_type": "stream",
     "text": [
      "Epoch 25/100 - Loss: 0.2468\n"
     ]
    },
    {
     "name": "stderr",
     "output_type": "stream",
     "text": [
      "Epoch 25/100: 100%|█████████████████████████████████████████████| 3093/3093 [00:07<00:00, 409.22it/s]\n"
     ]
    },
    {
     "name": "stdout",
     "output_type": "stream",
     "text": [
      "Epoch 26/100 - Loss: 0.2459\n",
      "[Epoch 25] 모델 저장됨: val_loss = 0.245916\n"
     ]
    },
    {
     "name": "stderr",
     "output_type": "stream",
     "text": [
      "Epoch 26/100: 100%|█████████████████████████████████████████████| 3093/3093 [00:08<00:00, 376.21it/s]\n"
     ]
    },
    {
     "name": "stdout",
     "output_type": "stream",
     "text": [
      "Epoch 27/100 - Loss: 0.2458\n",
      "[Epoch 26] 모델 저장됨: val_loss = 0.245750\n"
     ]
    },
    {
     "name": "stderr",
     "output_type": "stream",
     "text": [
      "Epoch 27/100: 100%|█████████████████████████████████████████████| 3093/3093 [00:08<00:00, 377.36it/s]\n"
     ]
    },
    {
     "name": "stdout",
     "output_type": "stream",
     "text": [
      "Epoch 28/100 - Loss: 0.2456\n",
      "[Epoch 27] 모델 저장됨: val_loss = 0.245552\n"
     ]
    },
    {
     "name": "stderr",
     "output_type": "stream",
     "text": [
      "Epoch 28/100: 100%|█████████████████████████████████████████████| 3093/3093 [00:08<00:00, 372.82it/s]\n"
     ]
    },
    {
     "name": "stdout",
     "output_type": "stream",
     "text": [
      "Epoch 29/100 - Loss: 0.2454\n",
      "[Epoch 28] 모델 저장됨: val_loss = 0.245377\n"
     ]
    },
    {
     "name": "stderr",
     "output_type": "stream",
     "text": [
      "Epoch 29/100: 100%|█████████████████████████████████████████████| 3093/3093 [00:08<00:00, 378.07it/s]\n"
     ]
    },
    {
     "name": "stdout",
     "output_type": "stream",
     "text": [
      "Epoch 30/100 - Loss: 0.2450\n",
      "[Epoch 29] 모델 저장됨: val_loss = 0.245040\n"
     ]
    },
    {
     "name": "stderr",
     "output_type": "stream",
     "text": [
      "Epoch 30/100: 100%|█████████████████████████████████████████████| 3093/3093 [00:07<00:00, 404.06it/s]\n"
     ]
    },
    {
     "name": "stdout",
     "output_type": "stream",
     "text": [
      "Epoch 31/100 - Loss: 0.2449\n",
      "[Epoch 30] 모델 저장됨: val_loss = 0.244919\n"
     ]
    },
    {
     "name": "stderr",
     "output_type": "stream",
     "text": [
      "Epoch 31/100: 100%|█████████████████████████████████████████████| 3093/3093 [00:07<00:00, 389.17it/s]\n"
     ]
    },
    {
     "name": "stdout",
     "output_type": "stream",
     "text": [
      "Epoch 32/100 - Loss: 0.2451\n"
     ]
    },
    {
     "name": "stderr",
     "output_type": "stream",
     "text": [
      "Epoch 32/100: 100%|█████████████████████████████████████████████| 3093/3093 [00:07<00:00, 410.60it/s]\n"
     ]
    },
    {
     "name": "stdout",
     "output_type": "stream",
     "text": [
      "Epoch 33/100 - Loss: 0.2445\n",
      "[Epoch 32] 모델 저장됨: val_loss = 0.244463\n"
     ]
    },
    {
     "name": "stderr",
     "output_type": "stream",
     "text": [
      "Epoch 33/100: 100%|█████████████████████████████████████████████| 3093/3093 [00:07<00:00, 406.35it/s]\n"
     ]
    },
    {
     "name": "stdout",
     "output_type": "stream",
     "text": [
      "Epoch 34/100 - Loss: 0.2445\n"
     ]
    },
    {
     "name": "stderr",
     "output_type": "stream",
     "text": [
      "Epoch 34/100: 100%|█████████████████████████████████████████████| 3093/3093 [00:08<00:00, 379.05it/s]\n"
     ]
    },
    {
     "name": "stdout",
     "output_type": "stream",
     "text": [
      "Epoch 35/100 - Loss: 0.2442\n",
      "[Epoch 34] 모델 저장됨: val_loss = 0.244225\n"
     ]
    },
    {
     "name": "stderr",
     "output_type": "stream",
     "text": [
      "Epoch 35/100: 100%|█████████████████████████████████████████████| 3093/3093 [00:08<00:00, 372.38it/s]\n"
     ]
    },
    {
     "name": "stdout",
     "output_type": "stream",
     "text": [
      "Epoch 36/100 - Loss: 0.2443\n"
     ]
    },
    {
     "name": "stderr",
     "output_type": "stream",
     "text": [
      "Epoch 36/100: 100%|█████████████████████████████████████████████| 3093/3093 [00:08<00:00, 376.05it/s]\n"
     ]
    },
    {
     "name": "stdout",
     "output_type": "stream",
     "text": [
      "Epoch 37/100 - Loss: 0.2438\n",
      "[Epoch 36] 모델 저장됨: val_loss = 0.243820\n"
     ]
    },
    {
     "name": "stderr",
     "output_type": "stream",
     "text": [
      "Epoch 37/100: 100%|█████████████████████████████████████████████| 3093/3093 [00:08<00:00, 371.52it/s]\n"
     ]
    },
    {
     "name": "stdout",
     "output_type": "stream",
     "text": [
      "Epoch 38/100 - Loss: 0.2438\n",
      "[Epoch 37] 모델 저장됨: val_loss = 0.243812\n"
     ]
    },
    {
     "name": "stderr",
     "output_type": "stream",
     "text": [
      "Epoch 38/100: 100%|█████████████████████████████████████████████| 3093/3093 [00:08<00:00, 373.15it/s]\n"
     ]
    },
    {
     "name": "stdout",
     "output_type": "stream",
     "text": [
      "Epoch 39/100 - Loss: 0.2438\n"
     ]
    },
    {
     "name": "stderr",
     "output_type": "stream",
     "text": [
      "Epoch 39/100: 100%|█████████████████████████████████████████████| 3093/3093 [00:08<00:00, 376.29it/s]\n"
     ]
    },
    {
     "name": "stdout",
     "output_type": "stream",
     "text": [
      "Epoch 40/100 - Loss: 0.2436\n",
      "[Epoch 39] 모델 저장됨: val_loss = 0.243619\n"
     ]
    },
    {
     "name": "stderr",
     "output_type": "stream",
     "text": [
      "Epoch 40/100: 100%|█████████████████████████████████████████████| 3093/3093 [00:08<00:00, 374.66it/s]\n"
     ]
    },
    {
     "name": "stdout",
     "output_type": "stream",
     "text": [
      "Epoch 41/100 - Loss: 0.2436\n"
     ]
    },
    {
     "name": "stderr",
     "output_type": "stream",
     "text": [
      "Epoch 41/100: 100%|█████████████████████████████████████████████| 3093/3093 [00:07<00:00, 389.22it/s]\n"
     ]
    },
    {
     "name": "stdout",
     "output_type": "stream",
     "text": [
      "Epoch 42/100 - Loss: 0.2433\n",
      "[Epoch 41] 모델 저장됨: val_loss = 0.243350\n"
     ]
    },
    {
     "name": "stderr",
     "output_type": "stream",
     "text": [
      "Epoch 42/100: 100%|█████████████████████████████████████████████| 3093/3093 [00:07<00:00, 408.18it/s]\n"
     ]
    },
    {
     "name": "stdout",
     "output_type": "stream",
     "text": [
      "Epoch 43/100 - Loss: 0.2433\n",
      "[Epoch 42] 모델 저장됨: val_loss = 0.243311\n"
     ]
    },
    {
     "name": "stderr",
     "output_type": "stream",
     "text": [
      "Epoch 43/100: 100%|█████████████████████████████████████████████| 3093/3093 [00:07<00:00, 387.31it/s]\n"
     ]
    },
    {
     "name": "stdout",
     "output_type": "stream",
     "text": [
      "Epoch 44/100 - Loss: 0.2435\n"
     ]
    },
    {
     "name": "stderr",
     "output_type": "stream",
     "text": [
      "Epoch 44/100: 100%|█████████████████████████████████████████████| 3093/3093 [00:08<00:00, 376.71it/s]\n"
     ]
    },
    {
     "name": "stdout",
     "output_type": "stream",
     "text": [
      "Epoch 45/100 - Loss: 0.2432\n",
      "[Epoch 44] 모델 저장됨: val_loss = 0.243164\n"
     ]
    },
    {
     "name": "stderr",
     "output_type": "stream",
     "text": [
      "Epoch 45/100: 100%|█████████████████████████████████████████████| 3093/3093 [00:08<00:00, 372.39it/s]\n"
     ]
    },
    {
     "name": "stdout",
     "output_type": "stream",
     "text": [
      "Epoch 46/100 - Loss: 0.2431\n",
      "[Epoch 45] 모델 저장됨: val_loss = 0.243113\n"
     ]
    },
    {
     "name": "stderr",
     "output_type": "stream",
     "text": [
      "Epoch 46/100: 100%|█████████████████████████████████████████████| 3093/3093 [00:08<00:00, 375.18it/s]\n"
     ]
    },
    {
     "name": "stdout",
     "output_type": "stream",
     "text": [
      "Epoch 47/100 - Loss: 0.2429\n",
      "[Epoch 46] 모델 저장됨: val_loss = 0.242853\n"
     ]
    },
    {
     "name": "stderr",
     "output_type": "stream",
     "text": [
      "Epoch 47/100: 100%|█████████████████████████████████████████████| 3093/3093 [00:08<00:00, 363.24it/s]\n"
     ]
    },
    {
     "name": "stdout",
     "output_type": "stream",
     "text": [
      "Epoch 48/100 - Loss: 0.2427\n",
      "[Epoch 47] 모델 저장됨: val_loss = 0.242740\n"
     ]
    },
    {
     "name": "stderr",
     "output_type": "stream",
     "text": [
      "Epoch 48/100: 100%|█████████████████████████████████████████████| 3093/3093 [00:08<00:00, 380.81it/s]\n"
     ]
    },
    {
     "name": "stdout",
     "output_type": "stream",
     "text": [
      "Epoch 49/100 - Loss: 0.2426\n",
      "[Epoch 48] 모델 저장됨: val_loss = 0.242644\n"
     ]
    },
    {
     "name": "stderr",
     "output_type": "stream",
     "text": [
      "Epoch 49/100: 100%|█████████████████████████████████████████████| 3093/3093 [00:07<00:00, 410.53it/s]\n"
     ]
    },
    {
     "name": "stdout",
     "output_type": "stream",
     "text": [
      "Epoch 50/100 - Loss: 0.2426\n",
      "[Epoch 49] 모델 저장됨: val_loss = 0.242599\n"
     ]
    },
    {
     "name": "stderr",
     "output_type": "stream",
     "text": [
      "Epoch 50/100: 100%|█████████████████████████████████████████████| 3093/3093 [00:08<00:00, 376.85it/s]\n"
     ]
    },
    {
     "name": "stdout",
     "output_type": "stream",
     "text": [
      "Epoch 51/100 - Loss: 0.2426\n"
     ]
    },
    {
     "name": "stderr",
     "output_type": "stream",
     "text": [
      "Epoch 51/100: 100%|█████████████████████████████████████████████| 3093/3093 [00:07<00:00, 403.00it/s]\n"
     ]
    },
    {
     "name": "stdout",
     "output_type": "stream",
     "text": [
      "Epoch 52/100 - Loss: 0.2422\n",
      "[Epoch 51] 모델 저장됨: val_loss = 0.242195\n"
     ]
    },
    {
     "name": "stderr",
     "output_type": "stream",
     "text": [
      "Epoch 52/100: 100%|█████████████████████████████████████████████| 3093/3093 [00:07<00:00, 405.21it/s]\n"
     ]
    },
    {
     "name": "stdout",
     "output_type": "stream",
     "text": [
      "Epoch 53/100 - Loss: 0.2416\n",
      "[Epoch 52] 모델 저장됨: val_loss = 0.241603\n"
     ]
    },
    {
     "name": "stderr",
     "output_type": "stream",
     "text": [
      "Epoch 53/100: 100%|█████████████████████████████████████████████| 3093/3093 [00:07<00:00, 393.60it/s]\n"
     ]
    },
    {
     "name": "stdout",
     "output_type": "stream",
     "text": [
      "Epoch 54/100 - Loss: 0.2402\n",
      "[Epoch 53] 모델 저장됨: val_loss = 0.240174\n"
     ]
    },
    {
     "name": "stderr",
     "output_type": "stream",
     "text": [
      "Epoch 54/100: 100%|█████████████████████████████████████████████| 3093/3093 [00:07<00:00, 397.03it/s]\n"
     ]
    },
    {
     "name": "stdout",
     "output_type": "stream",
     "text": [
      "Epoch 55/100 - Loss: 0.2390\n",
      "[Epoch 54] 모델 저장됨: val_loss = 0.239036\n"
     ]
    },
    {
     "name": "stderr",
     "output_type": "stream",
     "text": [
      "Epoch 55/100: 100%|█████████████████████████████████████████████| 3093/3093 [00:07<00:00, 388.59it/s]\n"
     ]
    },
    {
     "name": "stdout",
     "output_type": "stream",
     "text": [
      "Epoch 56/100 - Loss: 0.2377\n",
      "[Epoch 55] 모델 저장됨: val_loss = 0.237745\n"
     ]
    },
    {
     "name": "stderr",
     "output_type": "stream",
     "text": [
      "Epoch 56/100: 100%|█████████████████████████████████████████████| 3093/3093 [00:07<00:00, 399.31it/s]\n"
     ]
    },
    {
     "name": "stdout",
     "output_type": "stream",
     "text": [
      "Epoch 57/100 - Loss: 0.2365\n",
      "[Epoch 56] 모델 저장됨: val_loss = 0.236455\n"
     ]
    },
    {
     "name": "stderr",
     "output_type": "stream",
     "text": [
      "Epoch 57/100: 100%|█████████████████████████████████████████████| 3093/3093 [00:07<00:00, 395.70it/s]\n"
     ]
    },
    {
     "name": "stdout",
     "output_type": "stream",
     "text": [
      "Epoch 58/100 - Loss: 0.2359\n",
      "[Epoch 57] 모델 저장됨: val_loss = 0.235863\n"
     ]
    },
    {
     "name": "stderr",
     "output_type": "stream",
     "text": [
      "Epoch 58/100: 100%|█████████████████████████████████████████████| 3093/3093 [00:07<00:00, 393.63it/s]\n"
     ]
    },
    {
     "name": "stdout",
     "output_type": "stream",
     "text": [
      "Epoch 59/100 - Loss: 0.2346\n",
      "[Epoch 58] 모델 저장됨: val_loss = 0.234628\n"
     ]
    },
    {
     "name": "stderr",
     "output_type": "stream",
     "text": [
      "Epoch 59/100: 100%|█████████████████████████████████████████████| 3093/3093 [00:07<00:00, 406.34it/s]\n"
     ]
    },
    {
     "name": "stdout",
     "output_type": "stream",
     "text": [
      "Epoch 60/100 - Loss: 0.2325\n",
      "[Epoch 59] 모델 저장됨: val_loss = 0.232544\n"
     ]
    },
    {
     "name": "stderr",
     "output_type": "stream",
     "text": [
      "Epoch 60/100: 100%|█████████████████████████████████████████████| 3093/3093 [00:07<00:00, 386.79it/s]\n"
     ]
    },
    {
     "name": "stdout",
     "output_type": "stream",
     "text": [
      "Epoch 61/100 - Loss: 0.2309\n",
      "[Epoch 60] 모델 저장됨: val_loss = 0.230853\n"
     ]
    },
    {
     "name": "stderr",
     "output_type": "stream",
     "text": [
      "Epoch 61/100: 100%|█████████████████████████████████████████████| 3093/3093 [00:07<00:00, 412.70it/s]\n"
     ]
    },
    {
     "name": "stdout",
     "output_type": "stream",
     "text": [
      "Epoch 62/100 - Loss: 0.2287\n",
      "[Epoch 61] 모델 저장됨: val_loss = 0.228743\n"
     ]
    },
    {
     "name": "stderr",
     "output_type": "stream",
     "text": [
      "Epoch 62/100: 100%|█████████████████████████████████████████████| 3093/3093 [00:07<00:00, 404.12it/s]\n"
     ]
    },
    {
     "name": "stdout",
     "output_type": "stream",
     "text": [
      "Epoch 63/100 - Loss: 0.2278\n",
      "[Epoch 62] 모델 저장됨: val_loss = 0.227774\n"
     ]
    },
    {
     "name": "stderr",
     "output_type": "stream",
     "text": [
      "Epoch 63/100: 100%|█████████████████████████████████████████████| 3093/3093 [00:08<00:00, 377.96it/s]\n"
     ]
    },
    {
     "name": "stdout",
     "output_type": "stream",
     "text": [
      "Epoch 64/100 - Loss: 0.2264\n",
      "[Epoch 63] 모델 저장됨: val_loss = 0.226376\n"
     ]
    },
    {
     "name": "stderr",
     "output_type": "stream",
     "text": [
      "Epoch 64/100: 100%|█████████████████████████████████████████████| 3093/3093 [00:08<00:00, 375.47it/s]\n"
     ]
    },
    {
     "name": "stdout",
     "output_type": "stream",
     "text": [
      "Epoch 65/100 - Loss: 0.2251\n",
      "[Epoch 64] 모델 저장됨: val_loss = 0.225113\n"
     ]
    },
    {
     "name": "stderr",
     "output_type": "stream",
     "text": [
      "Epoch 65/100: 100%|█████████████████████████████████████████████| 3093/3093 [00:08<00:00, 377.31it/s]\n"
     ]
    },
    {
     "name": "stdout",
     "output_type": "stream",
     "text": [
      "Epoch 66/100 - Loss: 0.2235\n",
      "[Epoch 65] 모델 저장됨: val_loss = 0.223483\n"
     ]
    },
    {
     "name": "stderr",
     "output_type": "stream",
     "text": [
      "Epoch 66/100: 100%|█████████████████████████████████████████████| 3093/3093 [00:08<00:00, 375.91it/s]\n"
     ]
    },
    {
     "name": "stdout",
     "output_type": "stream",
     "text": [
      "Epoch 67/100 - Loss: 0.2227\n",
      "[Epoch 66] 모델 저장됨: val_loss = 0.222669\n"
     ]
    },
    {
     "name": "stderr",
     "output_type": "stream",
     "text": [
      "Epoch 67/100: 100%|█████████████████████████████████████████████| 3093/3093 [00:08<00:00, 374.15it/s]\n"
     ]
    },
    {
     "name": "stdout",
     "output_type": "stream",
     "text": [
      "Epoch 68/100 - Loss: 0.2214\n",
      "[Epoch 67] 모델 저장됨: val_loss = 0.221429\n"
     ]
    },
    {
     "name": "stderr",
     "output_type": "stream",
     "text": [
      "Epoch 68/100: 100%|█████████████████████████████████████████████| 3093/3093 [00:07<00:00, 413.19it/s]\n"
     ]
    },
    {
     "name": "stdout",
     "output_type": "stream",
     "text": [
      "Epoch 69/100 - Loss: 0.2210\n",
      "[Epoch 68] 모델 저장됨: val_loss = 0.220986\n"
     ]
    },
    {
     "name": "stderr",
     "output_type": "stream",
     "text": [
      "Epoch 69/100: 100%|█████████████████████████████████████████████| 3093/3093 [00:08<00:00, 377.03it/s]\n"
     ]
    },
    {
     "name": "stdout",
     "output_type": "stream",
     "text": [
      "Epoch 70/100 - Loss: 0.2198\n",
      "[Epoch 69] 모델 저장됨: val_loss = 0.219772\n"
     ]
    },
    {
     "name": "stderr",
     "output_type": "stream",
     "text": [
      "Epoch 70/100: 100%|█████████████████████████████████████████████| 3093/3093 [00:08<00:00, 371.17it/s]\n"
     ]
    },
    {
     "name": "stdout",
     "output_type": "stream",
     "text": [
      "Epoch 71/100 - Loss: 0.2182\n",
      "[Epoch 70] 모델 저장됨: val_loss = 0.218217\n"
     ]
    },
    {
     "name": "stderr",
     "output_type": "stream",
     "text": [
      "Epoch 71/100: 100%|█████████████████████████████████████████████| 3093/3093 [00:08<00:00, 370.24it/s]\n"
     ]
    },
    {
     "name": "stdout",
     "output_type": "stream",
     "text": [
      "Epoch 72/100 - Loss: 0.2178\n",
      "[Epoch 71] 모델 저장됨: val_loss = 0.217756\n"
     ]
    },
    {
     "name": "stderr",
     "output_type": "stream",
     "text": [
      "Epoch 72/100: 100%|█████████████████████████████████████████████| 3093/3093 [00:08<00:00, 373.85it/s]\n"
     ]
    },
    {
     "name": "stdout",
     "output_type": "stream",
     "text": [
      "Epoch 73/100 - Loss: 0.2175\n",
      "[Epoch 72] 모델 저장됨: val_loss = 0.217458\n"
     ]
    },
    {
     "name": "stderr",
     "output_type": "stream",
     "text": [
      "Epoch 73/100: 100%|█████████████████████████████████████████████| 3093/3093 [00:08<00:00, 376.34it/s]\n"
     ]
    },
    {
     "name": "stdout",
     "output_type": "stream",
     "text": [
      "Epoch 74/100 - Loss: 0.2165\n",
      "[Epoch 73] 모델 저장됨: val_loss = 0.216482\n"
     ]
    },
    {
     "name": "stderr",
     "output_type": "stream",
     "text": [
      "Epoch 74/100: 100%|█████████████████████████████████████████████| 3093/3093 [00:08<00:00, 372.19it/s]\n"
     ]
    },
    {
     "name": "stdout",
     "output_type": "stream",
     "text": [
      "Epoch 75/100 - Loss: 0.2141\n",
      "[Epoch 74] 모델 저장됨: val_loss = 0.214106\n"
     ]
    },
    {
     "name": "stderr",
     "output_type": "stream",
     "text": [
      "Epoch 75/100: 100%|█████████████████████████████████████████████| 3093/3093 [00:07<00:00, 391.79it/s]\n"
     ]
    },
    {
     "name": "stdout",
     "output_type": "stream",
     "text": [
      "Epoch 76/100 - Loss: 0.2133\n",
      "[Epoch 75] 모델 저장됨: val_loss = 0.213274\n"
     ]
    },
    {
     "name": "stderr",
     "output_type": "stream",
     "text": [
      "Epoch 76/100: 100%|█████████████████████████████████████████████| 3093/3093 [00:07<00:00, 404.53it/s]\n"
     ]
    },
    {
     "name": "stdout",
     "output_type": "stream",
     "text": [
      "Epoch 77/100 - Loss: 0.2104\n",
      "[Epoch 76] 모델 저장됨: val_loss = 0.210380\n"
     ]
    },
    {
     "name": "stderr",
     "output_type": "stream",
     "text": [
      "Epoch 77/100: 100%|█████████████████████████████████████████████| 3093/3093 [00:07<00:00, 406.50it/s]\n"
     ]
    },
    {
     "name": "stdout",
     "output_type": "stream",
     "text": [
      "Epoch 78/100 - Loss: 0.2086\n",
      "[Epoch 77] 모델 저장됨: val_loss = 0.208559\n"
     ]
    },
    {
     "name": "stderr",
     "output_type": "stream",
     "text": [
      "Epoch 78/100: 100%|█████████████████████████████████████████████| 3093/3093 [00:08<00:00, 382.82it/s]\n"
     ]
    },
    {
     "name": "stdout",
     "output_type": "stream",
     "text": [
      "Epoch 79/100 - Loss: 0.2072\n",
      "[Epoch 78] 모델 저장됨: val_loss = 0.207231\n"
     ]
    },
    {
     "name": "stderr",
     "output_type": "stream",
     "text": [
      "Epoch 79/100: 100%|█████████████████████████████████████████████| 3093/3093 [00:08<00:00, 379.96it/s]\n"
     ]
    },
    {
     "name": "stdout",
     "output_type": "stream",
     "text": [
      "Epoch 80/100 - Loss: 0.2088\n"
     ]
    },
    {
     "name": "stderr",
     "output_type": "stream",
     "text": [
      "Epoch 80/100: 100%|█████████████████████████████████████████████| 3093/3093 [00:08<00:00, 376.32it/s]\n"
     ]
    },
    {
     "name": "stdout",
     "output_type": "stream",
     "text": [
      "Epoch 81/100 - Loss: 0.2055\n",
      "[Epoch 80] 모델 저장됨: val_loss = 0.205529\n"
     ]
    },
    {
     "name": "stderr",
     "output_type": "stream",
     "text": [
      "Epoch 81/100: 100%|█████████████████████████████████████████████| 3093/3093 [00:08<00:00, 384.48it/s]\n"
     ]
    },
    {
     "name": "stdout",
     "output_type": "stream",
     "text": [
      "Epoch 82/100 - Loss: 0.2039\n",
      "[Epoch 81] 모델 저장됨: val_loss = 0.203888\n"
     ]
    },
    {
     "name": "stderr",
     "output_type": "stream",
     "text": [
      "Epoch 82/100: 100%|█████████████████████████████████████████████| 3093/3093 [00:07<00:00, 411.35it/s]\n"
     ]
    },
    {
     "name": "stdout",
     "output_type": "stream",
     "text": [
      "Epoch 83/100 - Loss: 0.2060\n"
     ]
    },
    {
     "name": "stderr",
     "output_type": "stream",
     "text": [
      "Epoch 83/100: 100%|█████████████████████████████████████████████| 3093/3093 [00:07<00:00, 409.18it/s]\n"
     ]
    },
    {
     "name": "stdout",
     "output_type": "stream",
     "text": [
      "Epoch 84/100 - Loss: 0.2037\n",
      "[Epoch 83] 모델 저장됨: val_loss = 0.203719\n"
     ]
    },
    {
     "name": "stderr",
     "output_type": "stream",
     "text": [
      "Epoch 84/100: 100%|█████████████████████████████████████████████| 3093/3093 [00:07<00:00, 408.86it/s]\n"
     ]
    },
    {
     "name": "stdout",
     "output_type": "stream",
     "text": [
      "Epoch 85/100 - Loss: 0.2016\n",
      "[Epoch 84] 모델 저장됨: val_loss = 0.201643\n"
     ]
    },
    {
     "name": "stderr",
     "output_type": "stream",
     "text": [
      "Epoch 85/100: 100%|█████████████████████████████████████████████| 3093/3093 [00:07<00:00, 412.36it/s]\n"
     ]
    },
    {
     "name": "stdout",
     "output_type": "stream",
     "text": [
      "Epoch 86/100 - Loss: 0.2036\n"
     ]
    },
    {
     "name": "stderr",
     "output_type": "stream",
     "text": [
      "Epoch 86/100: 100%|█████████████████████████████████████████████| 3093/3093 [00:08<00:00, 385.12it/s]\n"
     ]
    },
    {
     "name": "stdout",
     "output_type": "stream",
     "text": [
      "Epoch 87/100 - Loss: 0.2015\n",
      "[Epoch 86] 모델 저장됨: val_loss = 0.201509\n"
     ]
    },
    {
     "name": "stderr",
     "output_type": "stream",
     "text": [
      "Epoch 87/100: 100%|█████████████████████████████████████████████| 3093/3093 [00:07<00:00, 402.99it/s]\n"
     ]
    },
    {
     "name": "stdout",
     "output_type": "stream",
     "text": [
      "Epoch 88/100 - Loss: 0.2016\n"
     ]
    },
    {
     "name": "stderr",
     "output_type": "stream",
     "text": [
      "Epoch 88/100: 100%|█████████████████████████████████████████████| 3093/3093 [00:07<00:00, 404.63it/s]\n"
     ]
    },
    {
     "name": "stdout",
     "output_type": "stream",
     "text": [
      "Epoch 89/100 - Loss: 0.2006\n",
      "[Epoch 88] 모델 저장됨: val_loss = 0.200562\n"
     ]
    },
    {
     "name": "stderr",
     "output_type": "stream",
     "text": [
      "Epoch 89/100: 100%|█████████████████████████████████████████████| 3093/3093 [00:07<00:00, 392.37it/s]\n"
     ]
    },
    {
     "name": "stdout",
     "output_type": "stream",
     "text": [
      "Epoch 90/100 - Loss: 0.2007\n"
     ]
    },
    {
     "name": "stderr",
     "output_type": "stream",
     "text": [
      "Epoch 90/100: 100%|█████████████████████████████████████████████| 3093/3093 [00:08<00:00, 380.31it/s]\n"
     ]
    },
    {
     "name": "stdout",
     "output_type": "stream",
     "text": [
      "Epoch 91/100 - Loss: 0.1998\n",
      "[Epoch 90] 모델 저장됨: val_loss = 0.199762\n"
     ]
    },
    {
     "name": "stderr",
     "output_type": "stream",
     "text": [
      "Epoch 91/100: 100%|█████████████████████████████████████████████| 3093/3093 [00:08<00:00, 372.48it/s]\n"
     ]
    },
    {
     "name": "stdout",
     "output_type": "stream",
     "text": [
      "Epoch 92/100 - Loss: 0.2143\n"
     ]
    },
    {
     "name": "stderr",
     "output_type": "stream",
     "text": [
      "Epoch 92/100: 100%|█████████████████████████████████████████████| 3093/3093 [00:08<00:00, 377.19it/s]\n"
     ]
    },
    {
     "name": "stdout",
     "output_type": "stream",
     "text": [
      "Epoch 93/100 - Loss: 0.1951\n",
      "[Epoch 92] 모델 저장됨: val_loss = 0.195088\n"
     ]
    },
    {
     "name": "stderr",
     "output_type": "stream",
     "text": [
      "Epoch 93/100: 100%|█████████████████████████████████████████████| 3093/3093 [00:08<00:00, 373.68it/s]\n"
     ]
    },
    {
     "name": "stdout",
     "output_type": "stream",
     "text": [
      "Epoch 94/100 - Loss: 0.1930\n",
      "[Epoch 93] 모델 저장됨: val_loss = 0.193043\n"
     ]
    },
    {
     "name": "stderr",
     "output_type": "stream",
     "text": [
      "Epoch 94/100: 100%|█████████████████████████████████████████████| 3093/3093 [00:08<00:00, 375.54it/s]\n"
     ]
    },
    {
     "name": "stdout",
     "output_type": "stream",
     "text": [
      "Epoch 95/100 - Loss: 0.1916\n",
      "[Epoch 94] 모델 저장됨: val_loss = 0.191571\n"
     ]
    },
    {
     "name": "stderr",
     "output_type": "stream",
     "text": [
      "Epoch 95/100: 100%|█████████████████████████████████████████████| 3093/3093 [00:08<00:00, 371.59it/s]\n"
     ]
    },
    {
     "name": "stdout",
     "output_type": "stream",
     "text": [
      "Epoch 96/100 - Loss: 0.1912\n",
      "[Epoch 95] 모델 저장됨: val_loss = 0.191228\n"
     ]
    },
    {
     "name": "stderr",
     "output_type": "stream",
     "text": [
      "Epoch 96/100: 100%|█████████████████████████████████████████████| 3093/3093 [00:08<00:00, 374.73it/s]\n"
     ]
    },
    {
     "name": "stdout",
     "output_type": "stream",
     "text": [
      "Epoch 97/100 - Loss: 0.1904\n",
      "[Epoch 96] 모델 저장됨: val_loss = 0.190406\n"
     ]
    },
    {
     "name": "stderr",
     "output_type": "stream",
     "text": [
      "Epoch 97/100: 100%|█████████████████████████████████████████████| 3093/3093 [00:08<00:00, 377.96it/s]\n"
     ]
    },
    {
     "name": "stdout",
     "output_type": "stream",
     "text": [
      "Epoch 98/100 - Loss: 0.1893\n",
      "[Epoch 97] 모델 저장됨: val_loss = 0.189320\n"
     ]
    },
    {
     "name": "stderr",
     "output_type": "stream",
     "text": [
      "Epoch 98/100: 100%|█████████████████████████████████████████████| 3093/3093 [00:08<00:00, 373.80it/s]\n"
     ]
    },
    {
     "name": "stdout",
     "output_type": "stream",
     "text": [
      "Epoch 99/100 - Loss: 0.1892\n",
      "[Epoch 98] 모델 저장됨: val_loss = 0.189207\n"
     ]
    },
    {
     "name": "stderr",
     "output_type": "stream",
     "text": [
      "Epoch 99/100: 100%|█████████████████████████████████████████████| 3093/3093 [00:07<00:00, 403.33it/s]\n"
     ]
    },
    {
     "name": "stdout",
     "output_type": "stream",
     "text": [
      "Epoch 100/100 - Loss: 0.1889\n",
      "[Epoch 99] 모델 저장됨: val_loss = 0.188944\n"
     ]
    },
    {
     "name": "stderr",
     "output_type": "stream",
     "text": [
      "Epoch 100/100: 100%|████████████████████████████████████████████| 3093/3093 [00:07<00:00, 389.61it/s]\n"
     ]
    },
    {
     "name": "stdout",
     "output_type": "stream",
     "text": [
      "Epoch 101/100 - Loss: 0.1882\n",
      "[Epoch 100] 모델 저장됨: val_loss = 0.188167\n",
      "[Saved] Training loss plot saved at ./sav/TrainAD_120_rn_vl_wl_gc/TranAD_120_train_loss_plot.png\n"
     ]
    }
   ],
   "source": [
    "# Training Start\n",
    "train_tranad(model, train_loader, device=device, num_epochs=epochs,sav_path=f'./sav/TrainAD_{seq_len}_rn_vl_wl_gc/')\n"
   ]
  },
  {
   "cell_type": "markdown",
   "id": "3c285b7e-4dda-4a1e-b298-aec09c3b1737",
   "metadata": {},
   "source": [
    "## Load the model weights"
   ]
  },
  {
   "cell_type": "code",
   "execution_count": 28,
   "id": "d0a6459e-2306-4ca7-8bbf-133cd4034f38",
   "metadata": {},
   "outputs": [
    {
     "data": {
      "text/plain": [
       "<All keys matched successfully>"
      ]
     },
     "execution_count": 28,
     "metadata": {},
     "output_type": "execute_result"
    }
   ],
   "source": [
    "model.load_state_dict(torch.load(f'./sav/TranAD_{seq_len}_rn_vl_wl_gc/TranAD_best.pth'))"
   ]
  },
  {
   "cell_type": "markdown",
   "id": "af602d14-ba35-4b1c-8507-892dc3b90a3d",
   "metadata": {},
   "source": [
    "## Predict and get the predicted sewer level"
   ]
  },
  {
   "cell_type": "code",
   "execution_count": 33,
   "id": "c5ef0333-2bae-4127-aa0c-d6d23b37620a",
   "metadata": {},
   "outputs": [],
   "source": [
    "# Test\n",
    "original_seq, corrected_seq, recon_errors = test_tranad(model, val_loader, device=device)\n"
   ]
  },
  {
   "cell_type": "code",
   "execution_count": 34,
   "id": "ef230beb-cf2d-43c1-96ce-aab6110ad752",
   "metadata": {},
   "outputs": [],
   "source": [
    "original_seq = inverse_norm(original_seq, train_scaler)\n",
    "corrected_seq = inverse_norm(corrected_seq, train_scaler)"
   ]
  },
  {
   "cell_type": "code",
   "execution_count": 35,
   "id": "6d3cbee7-5340-4196-92dc-de00705ced62",
   "metadata": {},
   "outputs": [],
   "source": [
    "rain_value_g = test_dfs[0]['rn']\n",
    "rain_value_c = test_dfs[1]['rn']"
   ]
  },
  {
   "cell_type": "code",
   "execution_count": 36,
   "id": "1d7ada35-88e4-43dd-bc7a-a4ef2853bdc8",
   "metadata": {},
   "outputs": [],
   "source": [
    "# Select the correted sequence only sewer level\"\n",
    "original_vl =  original_seq[:, :, 1]  # [N, 60]\n",
    "corrected_vl = corrected_seq[:, :, 1]  # [N, 60]"
   ]
  },
  {
   "cell_type": "code",
   "execution_count": 37,
   "id": "5420de3a-0caf-4ae6-8560-805d3fd34e60",
   "metadata": {},
   "outputs": [
    {
     "data": {
      "text/plain": [
       "(791760, 120)"
      ]
     },
     "execution_count": 37,
     "metadata": {},
     "output_type": "execute_result"
    }
   ],
   "source": [
    "recon_errors.shape"
   ]
  },
  {
   "cell_type": "markdown",
   "id": "bee60b8d-e59e-42e6-aa96-a928058f46b9",
   "metadata": {},
   "source": [
    "## Merge the sequences data to the all time step data ([N,T] -> [N+T-1,])"
   ]
  },
  {
   "cell_type": "code",
   "execution_count": 38,
   "id": "232094ab-d087-4ffa-b409-16e2bf72c551",
   "metadata": {},
   "outputs": [],
   "source": [
    "md = int(len(original_seq)/2)"
   ]
  },
  {
   "cell_type": "code",
   "execution_count": 39,
   "id": "e9f107b4-2106-4076-8471-e57a13b21d3b",
   "metadata": {},
   "outputs": [],
   "source": [
    "# 2. 전체 시계열 복원\n",
    "original_series_g = reconstruct_series_from_sequences(original_vl[:md])\n",
    "corrected_series_g = reconstruct_series_from_sequences(corrected_vl[:md])\n",
    "val_series_g = np.stack(test_dfs[0]['vl'].to_list())\n",
    "original_series_c = reconstruct_series_from_sequences(original_vl[md:])\n",
    "corrected_series_c = reconstruct_series_from_sequences(corrected_vl[md:])\n",
    "val_series_c = np.stack(test_dfs[1]['vl'].to_list())"
   ]
  },
  {
   "cell_type": "code",
   "execution_count": 40,
   "id": "e2ee928a-6308-413a-a4b9-5c67dde010be",
   "metadata": {},
   "outputs": [],
   "source": [
    "point_errors_g = (corrected_series_g - val_series_g) ** 2  # [N + T - 1]\n",
    "point_errors_c = (corrected_series_c - val_series_c) ** 2  # [N + T - 1]"
   ]
  },
  {
   "cell_type": "code",
   "execution_count": 41,
   "id": "6bb391a0-33aa-400a-a823-840a3b771f70",
   "metadata": {},
   "outputs": [],
   "source": [
    "tt = pd.date_range('20240301','20241201',freq='T',inclusive='left')[1:]"
   ]
  },
  {
   "cell_type": "code",
   "execution_count": 42,
   "id": "dfc80469-717b-4d89-8476-f88ef2bbd605",
   "metadata": {},
   "outputs": [],
   "source": [
    "def determine_threshold(scores, method='percentile', percentile=98):\n",
    "    return np.percentile(scores, percentile)"
   ]
  },
  {
   "cell_type": "code",
   "execution_count": 43,
   "id": "95a77d95-645e-481c-a41d-386565f63745",
   "metadata": {},
   "outputs": [],
   "source": [
    "# threshold_g = determine_threshold(point_errors_g, method='iqr')  # 또는 'mean_std'\n",
    "# threshold_c = determine_threshold(point_errors_c, method='iqr')  # 또는 'mean_std'\n",
    "threshold_g = determine_threshold(point_errors_g)  # 또는 'mean_std'\n",
    "threshold_c = determine_threshold(point_errors_c)  # 또는 'mean_std'\n",
    "threshold_g = max(threshold_g, 4.0).round()\n",
    "threshold_c = max(threshold_c, 4.0).round()\n",
    "anomaly_flags_g = point_errors_g > threshold_g  # [N + T - 1] 형태\n",
    "anomaly_flags_c = point_errors_c > threshold_c  # [N + T - 1] 형태"
   ]
  },
  {
   "cell_type": "code",
   "execution_count": 44,
   "id": "ed538b24-9780-4999-be99-bf71c53d3f26",
   "metadata": {},
   "outputs": [
    {
     "name": "stdout",
     "output_type": "stream",
     "text": [
      "광주 임계값: 5.0\n",
      "광주 탐지된 이상치 수: 7883\n",
      "창원 임계값: 14.0\n",
      "창원 탐지된 이상치 수: 7906\n"
     ]
    }
   ],
   "source": [
    "print(\"광주 임계값:\", threshold_g)\n",
    "print(\"광주 탐지된 이상치 수:\", np.sum(anomaly_flags_g))\n",
    "print(\"창원 임계값:\", threshold_c)\n",
    "print(\"창원 탐지된 이상치 수:\", np.sum(anomaly_flags_c))"
   ]
  },
  {
   "cell_type": "code",
   "execution_count": 45,
   "id": "6c5e4588-35bd-4351-bb17-555c7455e6b9",
   "metadata": {},
   "outputs": [
    {
     "name": "stdout",
     "output_type": "stream",
     "text": [
      "광주 임계값: 5.0\n",
      "광주 탐지된 이상치 수: 7883\n",
      "창원 임계값: 14.0\n",
      "창원 탐지된 이상치 수: 7906\n"
     ]
    }
   ],
   "source": [
    "print(\"광주 임계값:\", threshold_g)\n",
    "print(\"광주 탐지된 이상치 수:\", np.sum(anomaly_flags_g))\n",
    "print(\"창원 임계값:\", threshold_c)\n",
    "print(\"창원 탐지된 이상치 수:\", np.sum(anomaly_flags_c))"
   ]
  },
  {
   "cell_type": "code",
   "execution_count": 46,
   "id": "34b303ba-90d2-4f9b-8fce-0b6d7976e2e2",
   "metadata": {},
   "outputs": [],
   "source": [
    "original_norm_g = original_series_g.round()\n",
    "corrected_norm_g = corrected_series_g.round()\n",
    "input_seq_g = val_series_g.round()\n",
    "original_norm_c = original_series_c.round()\n",
    "corrected_norm_c = corrected_series_c.round()\n",
    "input_seq_c = val_series_c.round()"
   ]
  },
  {
   "cell_type": "code",
   "execution_count": 47,
   "id": "79e4838d-97e1-4e85-8513-bdbbb84d525f",
   "metadata": {},
   "outputs": [],
   "source": [
    "def plot_decadal_timeseries_with_anomalies(\n",
    "    tt, original, predicted, input_data=None, anomaly_flags=None,\n",
    "    save_dir=None, interval_days=10, rain=None\n",
    "):\n",
    "    \"\"\"\n",
    "    시계열을 10일 단위로 나누어 시각화하며, 이상치는 빨간 점으로 표시하고\n",
    "    강수량(rain)은 회색 실선으로 우측 y축에 시각화\n",
    "\n",
    "    Parameters:\n",
    "    - tt: DatetimeIndex, 시계열 시간\n",
    "    - original: np.array [N]\n",
    "    - predicted: np.array [N]\n",
    "    - input_data: np.array [N] or None\n",
    "    - anomaly_flags: np.array(bool) [N] or None\n",
    "    - save_dir: 저장 폴더 경로\n",
    "    - interval_days: 멀티 플롯 단위 기간 (기본 10일)\n",
    "    - rain: 강수량 np.array [N] or None\n",
    "    \"\"\"\n",
    "    import matplotlib.pyplot as plt\n",
    "    import pandas as pd\n",
    "    import os\n",
    "\n",
    "    df = pd.DataFrame({\n",
    "        'date': tt,\n",
    "        'original': original,\n",
    "        'predicted': predicted\n",
    "    })\n",
    "    if input_data is not None:\n",
    "        df['input'] = input_data\n",
    "    if anomaly_flags is not None:\n",
    "        df['anomaly'] = anomaly_flags\n",
    "    else:\n",
    "        df['anomaly'] = False\n",
    "    if rain is not None:\n",
    "        df['rain'] = rain\n",
    "\n",
    "    df = df.set_index('date')\n",
    "\n",
    "    # 날짜 단위로 분할\n",
    "    start_date = df.index.min()\n",
    "    end_date = df.index.max()\n",
    "    periods = pd.date_range(start=start_date, end=end_date, freq=f'{interval_days}D')\n",
    "\n",
    "    for i in range(len(periods) - 1):\n",
    "        t0, t1 = periods[i], periods[i+1]\n",
    "        window = df[(df.index >= t0) & (df.index < t1)]\n",
    "\n",
    "        if window.empty:\n",
    "            continue\n",
    "\n",
    "        fig, ax1 = plt.subplots(figsize=(14, 4))\n",
    "\n",
    "        ax1.plot(window.index, window['original'], label='Original', color='black')\n",
    "        ax1.plot(window.index, window['predicted'], label='Reconstructed', color='green', alpha=0.7)\n",
    "        if 'input' in window.columns:\n",
    "            ax1.plot(window.index, window['input'], label='Input', color='blue', alpha=0.5)\n",
    "\n",
    "        # 이상치 시각화\n",
    "        anomaly_points = window[window['anomaly']]\n",
    "        if not anomaly_points.empty:\n",
    "            ax1.scatter(\n",
    "                anomaly_points.index,\n",
    "                anomaly_points['original'],\n",
    "                color='red',\n",
    "                label='Anomaly',\n",
    "                zorder=3\n",
    "            )\n",
    "\n",
    "        # 우측 y축: 강수량 (회색 실선)\n",
    "        if 'rain' in window.columns:\n",
    "            ax2 = ax1.twinx()\n",
    "            ax2.plot(window.index, window['rain'], label='Rainfall', color='gray', linestyle='-', alpha=0.6)\n",
    "            ax2.set_ylabel('Rainfall (mm)', color='gray')\n",
    "            ax2.tick_params(axis='y', labelcolor='gray')\n",
    "\n",
    "        ax1.set_title(f'{t0.date()} ~ {t1.date()} Sewer Level Reconstruction')\n",
    "        ax1.set_xlabel('Date')\n",
    "        ax1.set_ylabel('Sewer Level')\n",
    "        ax1.grid(True)\n",
    "        ax1.legend(loc='upper left')\n",
    "        fig.tight_layout()\n",
    "\n",
    "        if save_dir:\n",
    "            os.makedirs(save_dir, exist_ok=True)\n",
    "            fname = f\"{t0.strftime('%Y%m%d')}_{t1.strftime('%Y%m%d')}.png\"\n",
    "            plt.savefig(os.path.join(save_dir, fname), dpi=300)\n",
    "            plt.close()\n",
    "            print(f\"✅ Saved: {fname}\")\n",
    "        else:\n",
    "            plt.show()\n"
   ]
  },
  {
   "cell_type": "code",
   "execution_count": 48,
   "id": "44bc7ddc-c4b4-43b5-9254-bf026909de13",
   "metadata": {
    "scrolled": true
   },
   "outputs": [
    {
     "name": "stdout",
     "output_type": "stream",
     "text": [
      "✅ Saved: 20240301_20240306.png\n",
      "✅ Saved: 20240306_20240311.png\n",
      "✅ Saved: 20240311_20240316.png\n",
      "✅ Saved: 20240316_20240321.png\n",
      "✅ Saved: 20240321_20240326.png\n",
      "✅ Saved: 20240326_20240331.png\n",
      "✅ Saved: 20240331_20240405.png\n",
      "✅ Saved: 20240405_20240410.png\n",
      "✅ Saved: 20240410_20240415.png\n",
      "✅ Saved: 20240415_20240420.png\n",
      "✅ Saved: 20240420_20240425.png\n",
      "✅ Saved: 20240425_20240430.png\n",
      "✅ Saved: 20240430_20240505.png\n",
      "✅ Saved: 20240505_20240510.png\n",
      "✅ Saved: 20240510_20240515.png\n",
      "✅ Saved: 20240515_20240520.png\n",
      "✅ Saved: 20240520_20240525.png\n",
      "✅ Saved: 20240525_20240530.png\n",
      "✅ Saved: 20240530_20240604.png\n",
      "✅ Saved: 20240604_20240609.png\n",
      "✅ Saved: 20240609_20240614.png\n",
      "✅ Saved: 20240614_20240619.png\n",
      "✅ Saved: 20240619_20240624.png\n",
      "✅ Saved: 20240624_20240629.png\n",
      "✅ Saved: 20240629_20240704.png\n",
      "✅ Saved: 20240704_20240709.png\n",
      "✅ Saved: 20240709_20240714.png\n",
      "✅ Saved: 20240714_20240719.png\n",
      "✅ Saved: 20240719_20240724.png\n",
      "✅ Saved: 20240724_20240729.png\n",
      "✅ Saved: 20240729_20240803.png\n",
      "✅ Saved: 20240803_20240808.png\n",
      "✅ Saved: 20240808_20240813.png\n",
      "✅ Saved: 20240813_20240818.png\n",
      "✅ Saved: 20240818_20240823.png\n",
      "✅ Saved: 20240823_20240828.png\n",
      "✅ Saved: 20240828_20240902.png\n",
      "✅ Saved: 20240902_20240907.png\n",
      "✅ Saved: 20240907_20240912.png\n",
      "✅ Saved: 20240912_20240917.png\n",
      "✅ Saved: 20240917_20240922.png\n",
      "✅ Saved: 20240922_20240927.png\n",
      "✅ Saved: 20240927_20241002.png\n",
      "✅ Saved: 20241002_20241007.png\n",
      "✅ Saved: 20241007_20241012.png\n",
      "✅ Saved: 20241012_20241017.png\n",
      "✅ Saved: 20241017_20241022.png\n",
      "✅ Saved: 20241022_20241027.png\n",
      "✅ Saved: 20241027_20241101.png\n",
      "✅ Saved: 20241101_20241106.png\n",
      "✅ Saved: 20241106_20241111.png\n",
      "✅ Saved: 20241111_20241116.png\n",
      "✅ Saved: 20241116_20241121.png\n",
      "✅ Saved: 20241121_20241126.png\n"
     ]
    }
   ],
   "source": [
    "import matplotlib.dates as mdates\n",
    "plot_decadal_timeseries_with_anomalies(\n",
    "    tt=tt,\n",
    "    original=original_norm_g, \n",
    "    predicted=corrected_norm_g, \n",
    "    input_data=input_seq_g,\n",
    "    anomaly_flags=anomaly_flags_g,  \n",
    "    save_dir=f'./imgs/TranAD_{seq_len}_gc/gwangjoo/',\n",
    "    interval_days=5,\n",
    "    rain = rain_value_g\n",
    ")"
   ]
  },
  {
   "cell_type": "code",
   "execution_count": 49,
   "id": "af240ef5-0a38-4bd8-8410-88a42b9d779d",
   "metadata": {
    "scrolled": true
   },
   "outputs": [
    {
     "name": "stdout",
     "output_type": "stream",
     "text": [
      "✅ Saved: 20240301_20240306.png\n",
      "✅ Saved: 20240306_20240311.png\n",
      "✅ Saved: 20240311_20240316.png\n",
      "✅ Saved: 20240316_20240321.png\n",
      "✅ Saved: 20240321_20240326.png\n",
      "✅ Saved: 20240326_20240331.png\n",
      "✅ Saved: 20240331_20240405.png\n",
      "✅ Saved: 20240405_20240410.png\n",
      "✅ Saved: 20240410_20240415.png\n",
      "✅ Saved: 20240415_20240420.png\n",
      "✅ Saved: 20240420_20240425.png\n",
      "✅ Saved: 20240425_20240430.png\n",
      "✅ Saved: 20240430_20240505.png\n",
      "✅ Saved: 20240505_20240510.png\n",
      "✅ Saved: 20240510_20240515.png\n",
      "✅ Saved: 20240515_20240520.png\n",
      "✅ Saved: 20240520_20240525.png\n",
      "✅ Saved: 20240525_20240530.png\n",
      "✅ Saved: 20240530_20240604.png\n",
      "✅ Saved: 20240604_20240609.png\n",
      "✅ Saved: 20240609_20240614.png\n",
      "✅ Saved: 20240614_20240619.png\n",
      "✅ Saved: 20240619_20240624.png\n",
      "✅ Saved: 20240624_20240629.png\n",
      "✅ Saved: 20240629_20240704.png\n",
      "✅ Saved: 20240704_20240709.png\n",
      "✅ Saved: 20240709_20240714.png\n",
      "✅ Saved: 20240714_20240719.png\n",
      "✅ Saved: 20240719_20240724.png\n",
      "✅ Saved: 20240724_20240729.png\n",
      "✅ Saved: 20240729_20240803.png\n",
      "✅ Saved: 20240803_20240808.png\n",
      "✅ Saved: 20240808_20240813.png\n",
      "✅ Saved: 20240813_20240818.png\n",
      "✅ Saved: 20240818_20240823.png\n",
      "✅ Saved: 20240823_20240828.png\n",
      "✅ Saved: 20240828_20240902.png\n",
      "✅ Saved: 20240902_20240907.png\n",
      "✅ Saved: 20240907_20240912.png\n",
      "✅ Saved: 20240912_20240917.png\n",
      "✅ Saved: 20240917_20240922.png\n",
      "✅ Saved: 20240922_20240927.png\n",
      "✅ Saved: 20240927_20241002.png\n",
      "✅ Saved: 20241002_20241007.png\n",
      "✅ Saved: 20241007_20241012.png\n",
      "✅ Saved: 20241012_20241017.png\n",
      "✅ Saved: 20241017_20241022.png\n",
      "✅ Saved: 20241022_20241027.png\n",
      "✅ Saved: 20241027_20241101.png\n",
      "✅ Saved: 20241101_20241106.png\n",
      "✅ Saved: 20241106_20241111.png\n",
      "✅ Saved: 20241111_20241116.png\n",
      "✅ Saved: 20241116_20241121.png\n",
      "✅ Saved: 20241121_20241126.png\n"
     ]
    }
   ],
   "source": [
    "import matplotlib.dates as mdates\n",
    "plot_decadal_timeseries_with_anomalies(\n",
    "    tt=tt,\n",
    "    original=original_norm_c, \n",
    "    predicted=corrected_norm_c, \n",
    "    input_data=input_seq_c,\n",
    "    anomaly_flags=anomaly_flags_c,  \n",
    "    save_dir=f'./imgs/TranAD_{seq_len}_gc/changwon/',\n",
    "    interval_days=5\n",
    ")"
   ]
  },
  {
   "cell_type": "markdown",
   "id": "181bda01-bc81-4ef4-bb0b-066e3b3efe7c",
   "metadata": {},
   "source": [
    "## Gwangjoo anamaly statistics"
   ]
  },
  {
   "cell_type": "code",
   "execution_count": 50,
   "id": "1ba0b310-e6d8-461c-b9f3-67367b5dfdaf",
   "metadata": {},
   "outputs": [
    {
     "name": "stdout",
     "output_type": "stream",
     "text": [
      "📊 시점 단위 이상치 탐지 통계 요약\n",
      "- 총 시점 수: 395999\n",
      "- 이상치 시점 수: 7883\n",
      "- 이상치 비율: 1.99%\n",
      "- 이상치 평균 오차: 121.4617\n",
      "- 정상값 평균 오차: 0.1571\n"
     ]
    }
   ],
   "source": [
    "\n",
    "summarize_pointwise_anomaly_statistics(point_errors_g, anomaly_flags_g)"
   ]
  },
  {
   "cell_type": "markdown",
   "id": "2dc0377d-48fc-4eda-b6e9-b5f36ba393d6",
   "metadata": {},
   "source": [
    "## Changwon anamaly statistics"
   ]
  },
  {
   "cell_type": "code",
   "execution_count": 52,
   "id": "a9a86ac5-61bc-4067-b571-73a62a89411e",
   "metadata": {},
   "outputs": [
    {
     "name": "stdout",
     "output_type": "stream",
     "text": [
      "📊 시점 단위 이상치 탐지 통계 요약\n",
      "- 총 시점 수: 395999\n",
      "- 이상치 시점 수: 7906\n",
      "- 이상치 비율: 2.00%\n",
      "- 이상치 평균 오차: 168.1716\n",
      "- 정상값 평균 오차: 0.4480\n"
     ]
    }
   ],
   "source": [
    "\n",
    "summarize_pointwise_anomaly_statistics(point_errors_c, anomaly_flags_c)"
   ]
  },
  {
   "cell_type": "code",
   "execution_count": null,
   "id": "2e616131-c1e4-4cf6-81bb-484369cf84bf",
   "metadata": {},
   "outputs": [],
   "source": []
  }
 ],
 "metadata": {
  "kernelspec": {
   "display_name": "Python 3 (ipykernel)",
   "language": "python",
   "name": "python3"
  },
  "language_info": {
   "codemirror_mode": {
    "name": "ipython",
    "version": 3
   },
   "file_extension": ".py",
   "mimetype": "text/x-python",
   "name": "python",
   "nbconvert_exporter": "python",
   "pygments_lexer": "ipython3",
   "version": "3.12.11"
  }
 },
 "nbformat": 4,
 "nbformat_minor": 5
}
